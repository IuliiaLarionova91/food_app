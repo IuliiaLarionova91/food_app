{
 "cells": [
  {
   "cell_type": "markdown",
   "metadata": {},
   "source": [
    "# Продукты питания в мобильном приложении"
   ]
  },
  {
   "cell_type": "markdown",
   "metadata": {},
   "source": [
    "## Описание проекта"
   ]
  },
  {
   "cell_type": "markdown",
   "metadata": {},
   "source": [
    "Существует стартап, который продаёт продукты питания. Нужно разобраться, как ведут себя пользователи мобильного приложения. \n",
    "\n",
    "Изучим воронку продаж. Узнаем, как пользователи доходят до покупки. Сколько пользователей доходит до покупки, а сколько — «застревает» на предыдущих шагах? На каких именно?\n",
    "\n",
    "После этого исследуем результаты A/A/B-эксперимента. Дизайнеры захотели поменять шрифты во всём приложении, а менеджеры испугались, что пользователям будет непривычно. Договорились принять решение по результатам A/A/B-теста. Пользователей разбили на 3 группы: 2 контрольные со старыми шрифтами и одну экспериментальную — с новыми. Выясним, какой шрифт лучше.\n",
    "\n",
    "Создание двух групп A вместо одной имеет определённые преимущества. Если две контрольные группы окажутся равны, мы можем быть уверены в точности проведенного тестирования. Если же между значениями A и A будут существенные различия, это поможет обнаружить факторы, которые привели к искажению результатов. Сравнение контрольных групп также помогает понять, сколько времени и данных потребуется для дальнейших тестов.\n"
   ]
  },
  {
   "cell_type": "markdown",
   "metadata": {},
   "source": [
    "## Описание данных\n",
    "\n",
    "Каждая запись в логе — это действие пользователя, или событие.\n",
    "\n",
    "* EventName — название события;\n",
    "* DeviceIDHash — уникальный идентификатор пользователя;\n",
    "* EventTimestamp — время события;\n",
    "* ExpId — номер эксперимента: 246 и 247 — контрольные группы, а 248 — экспериментальная"
   ]
  },
  {
   "cell_type": "markdown",
   "metadata": {},
   "source": [
    "## Откроем файл с данными и изучим общую информацию"
   ]
  },
  {
   "cell_type": "code",
   "execution_count": 54,
   "metadata": {},
   "outputs": [],
   "source": [
    "import pandas as pd\n",
    "from datetime import datetime, timedelta\n",
    "import datetime as dt\n",
    "from matplotlib import pyplot as plt\n",
    "import numpy as np\n",
    "import scipy.stats as stats\n",
    "import math as mth\n",
    "from plotly import graph_objects as go"
   ]
  },
  {
   "cell_type": "code",
   "execution_count": null,
   "metadata": {},
   "outputs": [],
   "source": [
    "data = pd.read_csv('logs_exp.csv')\n",
    "\n",
    "data"
   ]
  },
  {
   "cell_type": "markdown",
   "metadata": {},
   "source": [
    "Вот и первая проблема. Данные склеились в одну строку вместо того, чтобы разбиться по колонкам. Это произошло из-за разделителей в формате csv. csv — это Comma-Separated Values, или значения, разделённые запятыми.\n",
    "\n",
    "Используем аргумент sep в функции read_csv(), чтобы разделить данные по столбцам,где разделитель будет \"\\t\"."
   ]
  },
  {
   "cell_type": "code",
   "execution_count": null,
   "metadata": {},
   "outputs": [],
   "source": [
    "data = pd.read_csv('logs_exp.csv', sep='\\t')\n",
    "data.head()"
   ]
  },
  {
   "cell_type": "markdown",
   "metadata": {},
   "source": [
    "## Подготовим данные"
   ]
  },
  {
   "cell_type": "markdown",
   "metadata": {},
   "source": [
    "### Приведем названия колонок к нижнему регистру."
   ]
  },
  {
   "cell_type": "code",
   "execution_count": null,
   "metadata": {},
   "outputs": [],
   "source": [
    "data.columns = data.columns.str.lower()\n",
    "\n",
    "print(data.columns)"
   ]
  },
  {
   "cell_type": "markdown",
   "metadata": {},
   "source": [
    "### Проверим пропуски и типы данных. Откорректируем, если нужно."
   ]
  },
  {
   "cell_type": "code",
   "execution_count": null,
   "metadata": {
    "scrolled": true
   },
   "outputs": [],
   "source": [
    "data.info()"
   ]
  },
  {
   "cell_type": "code",
   "execution_count": null,
   "metadata": {
    "scrolled": true
   },
   "outputs": [],
   "source": [
    "data.isna().sum()"
   ]
  },
  {
   "cell_type": "markdown",
   "metadata": {},
   "source": [
    "Пропусков нет."
   ]
  },
  {
   "cell_type": "markdown",
   "metadata": {},
   "source": [
    "### Добавим столбец даты и времени, а также отдельный столбец дат."
   ]
  },
  {
   "cell_type": "code",
   "execution_count": null,
   "metadata": {},
   "outputs": [],
   "source": [
    "data[\"dateandtime\"] = pd.to_datetime(data[\"eventtimestamp\"], unit=\"s\")\n",
    "data.info()"
   ]
  },
  {
   "cell_type": "code",
   "execution_count": null,
   "metadata": {},
   "outputs": [],
   "source": [
    "data.head()"
   ]
  },
  {
   "cell_type": "code",
   "execution_count": null,
   "metadata": {},
   "outputs": [],
   "source": [
    "data['date'] = pd.to_datetime(data['dateandtime'])\n",
    "data['date'] = data['date'].dt.floor(\"D\")"
   ]
  },
  {
   "cell_type": "code",
   "execution_count": null,
   "metadata": {},
   "outputs": [],
   "source": [
    "data.head()"
   ]
  },
  {
   "cell_type": "markdown",
   "metadata": {},
   "source": [
    "Проверим на дубликаты."
   ]
  },
  {
   "cell_type": "code",
   "execution_count": null,
   "metadata": {},
   "outputs": [],
   "source": [
    "data.duplicated().sum()"
   ]
  },
  {
   "cell_type": "markdown",
   "metadata": {},
   "source": [
    "Явных дубликатов в таблице datausers по пользователям 413. Удалим их с помощью метода drop_duplicates. И проверим, получилось ли их нам удалить."
   ]
  },
  {
   "cell_type": "code",
   "execution_count": null,
   "metadata": {},
   "outputs": [],
   "source": [
    "data = data.drop_duplicates()\n",
    "data.duplicated().sum()"
   ]
  },
  {
   "cell_type": "markdown",
   "metadata": {},
   "source": [
    "## Изучим и проверим данные.\n",
    "\n",
    "### Проверим cколько всего событий в логе."
   ]
  },
  {
   "cell_type": "code",
   "execution_count": null,
   "metadata": {},
   "outputs": [],
   "source": [
    "print(f'Всего событий в логе {len(data)}')\n",
    "      "
   ]
  },
  {
   "cell_type": "markdown",
   "metadata": {},
   "source": [
    "### Проверим сколько всего пользователей в логе."
   ]
  },
  {
   "cell_type": "code",
   "execution_count": null,
   "metadata": {},
   "outputs": [],
   "source": [
    "b=data['deviceidhash'].nunique()\n",
    "print('Всего пользователей в логе', b)"
   ]
  },
  {
   "cell_type": "markdown",
   "metadata": {},
   "source": [
    "### Проверим cколько в среднем событий приходится на пользователя."
   ]
  },
  {
   "cell_type": "code",
   "execution_count": null,
   "metadata": {},
   "outputs": [],
   "source": [
    "print( round(len(data)/data['deviceidhash'].nunique(), 2), 'в среднем событий приходится на пользователя')"
   ]
  },
  {
   "cell_type": "markdown",
   "metadata": {},
   "source": [
    "### Найдем максимальную и минимальную дату в данных. "
   ]
  },
  {
   "cell_type": "code",
   "execution_count": null,
   "metadata": {},
   "outputs": [],
   "source": [
    "maxdate=max(data['date'])\n",
    "mindate=min(data['date'])\n",
    "print('Максимальная дата:', maxdate)\n",
    "print('Минимальная дата:', mindate)"
   ]
  },
  {
   "cell_type": "markdown",
   "metadata": {},
   "source": [
    "### Построем столбчатую диаграмму, которая отобразит количество событий в зависимости от времени в разрезе групп. "
   ]
  },
  {
   "cell_type": "code",
   "execution_count": null,
   "metadata": {},
   "outputs": [],
   "source": [
    "data.groupby(['expid', 'date'])['date'].count().unstack(0).plot(figsize=(15,10),kind='bar', ylabel='Количество событий', xlabel='Дата',title='Количество событий в зависимости от времени в разрезе групп.')\n",
    "plt.show()"
   ]
  },
  {
   "cell_type": "markdown",
   "metadata": {},
   "source": [
    "Технически в логи новых дней по некоторым пользователям могут «доезжать» события из прошлого — это может «перекашивать данные», поэтому удалим данные до 2019-07-31."
   ]
  },
  {
   "cell_type": "code",
   "execution_count": null,
   "metadata": {},
   "outputs": [],
   "source": [
    "data_old = data.copy()"
   ]
  },
  {
   "cell_type": "code",
   "execution_count": null,
   "metadata": {},
   "outputs": [],
   "source": [
    "data=data[data['date']>'2019-07-31']\n",
    "data"
   ]
  },
  {
   "cell_type": "markdown",
   "metadata": {},
   "source": [
    "Проверим, удалились ли данные, построив этот же график заново. Заодно проверим, что у нас есть пользователи из всех трёх экспериментальных групп."
   ]
  },
  {
   "cell_type": "code",
   "execution_count": null,
   "metadata": {},
   "outputs": [],
   "source": [
    "data.groupby(['expid', 'date'])['date'].count().unstack(0).plot(figsize=(15,10),kind='bar', ylabel='Количество событий', xlabel='Дата',title='Количество событий в зависимости от времени в разрезе групп.')\n",
    "plt.show()"
   ]
  },
  {
   "cell_type": "markdown",
   "metadata": {},
   "source": [
    "Пользователи есть во всех трёх экспериментальных группах.Лишние данные удалились."
   ]
  },
  {
   "cell_type": "markdown",
   "metadata": {},
   "source": [
    "### Проверим много ли событий и пользователей мы потеряли, отбросив старые данные."
   ]
  },
  {
   "cell_type": "code",
   "execution_count": null,
   "metadata": {},
   "outputs": [],
   "source": [
    "a=data['deviceidhash'].nunique()\n",
    "print('Всего пользователей в логе', data['deviceidhash'].nunique())"
   ]
  },
  {
   "cell_type": "code",
   "execution_count": null,
   "metadata": {},
   "outputs": [],
   "source": [
    "print('Потеряли',round((1-a/b)*100, 2), '% пользователей.')"
   ]
  },
  {
   "cell_type": "markdown",
   "metadata": {},
   "source": [
    "Проверим сколько записей в логе мы потеряли по событиям, в абсолютных и относительных показателях."
   ]
  },
  {
   "cell_type": "code",
   "execution_count": null,
   "metadata": {},
   "outputs": [],
   "source": [
    "compare=pd.concat([data_old.groupby(['eventname'])['deviceidhash'].count(), data.groupby(['eventname'])['deviceidhash'].count()], axis=1).reset_index()\n",
    "compare.columns=['eventname', 'old_notes', 'new_notes']\n",
    "compare['diferent']=compare['old_notes']-compare['new_notes']\n",
    "compare['share_left']=round(compare['new_notes']/compare['old_notes'], 2)\n",
    "compare"
   ]
  },
  {
   "cell_type": "markdown",
   "metadata": {},
   "source": [
    "Записей потеряли не существенно по всем событиям , меньше 1%.\n",
    "\n",
    "\n",
    "Так же проверим записи по группам."
   ]
  },
  {
   "cell_type": "code",
   "execution_count": null,
   "metadata": {
    "scrolled": true
   },
   "outputs": [],
   "source": [
    "compare_expid=pd.concat([data_old.groupby(['expid'])['deviceidhash'].count(), data.groupby(['expid'])['deviceidhash'].count()], axis=1).reset_index()\n",
    "compare_expid.columns=['eventname', 'old_notes', 'new_notes']\n",
    "compare_expid['diferent']=compare_expid['old_notes']-compare_expid['new_notes']\n",
    "compare_expid['share_left']=round(compare_expid['new_notes']/compare_expid['old_notes'], 2)\n",
    "compare_expid"
   ]
  },
  {
   "cell_type": "markdown",
   "metadata": {},
   "source": [
    "Записи не существенно потеряли по всем группам , меньше 1%."
   ]
  },
  {
   "cell_type": "markdown",
   "metadata": {},
   "source": [
    "## Изучим воронку событий.\n",
    "\n",
    "### Посмотрим, какие события есть в логах, как часто они встречаются. Отсортируем события по частоте."
   ]
  },
  {
   "cell_type": "code",
   "execution_count": null,
   "metadata": {},
   "outputs": [],
   "source": [
    "data1=data.groupby('eventname')['date'].count().sort_values(ascending=False)\n",
    "data1"
   ]
  },
  {
   "cell_type": "markdown",
   "metadata": {},
   "source": [
    "Чаще всего встречается событие MainScreenAppear."
   ]
  },
  {
   "cell_type": "markdown",
   "metadata": {},
   "source": [
    "### Посчитаем, сколько пользователей совершали каждое из этих событий. Отсортируйте события по числу пользователей. Посчитайте долю пользователей, которые хоть раз совершали событие."
   ]
  },
  {
   "cell_type": "code",
   "execution_count": null,
   "metadata": {},
   "outputs": [],
   "source": [
    "data2=data.groupby('eventname' )['deviceidhash'].nunique().sort_values(ascending=False).to_frame()\n",
    "data2['share']=round(data2['deviceidhash']/data['deviceidhash'].nunique(),2)\n",
    "data2\n"
   ]
  },
  {
   "cell_type": "markdown",
   "metadata": {},
   "source": [
    "Самая большая доля пользователей у события MainScreenAppear-0.98, а меньше всего у Tutorial-0.11"
   ]
  },
  {
   "cell_type": "markdown",
   "metadata": {},
   "source": [
    "### Предположим, в каком порядке происходят события. Все ли они выстраиваются в последовательную цепочку? Их не нужно будет учитывать при расчёте воронки."
   ]
  },
  {
   "cell_type": "markdown",
   "metadata": {},
   "source": [
    "Судя по таблице data2 можно сделать вывод, что воронка идет, в следующем порядке:\n",
    "\n",
    "    * MainScreenAppear\n",
    "    * OffersScreenAppear\n",
    "    * CartScreenAppear\n",
    "    * PaymentScreenSuccessful\n",
    "\n",
    "Так как видно, что на первом этапе больше всего людей,дальше их становится все меньше и меньше.\n",
    "    \n",
    "Tutorial не входит в воронуку."
   ]
  },
  {
   "cell_type": "markdown",
   "metadata": {},
   "source": [
    "### По воронке событий посчитаем, какая доля пользователей проходит на следующий шаг воронки (от числа пользователей на предыдущем). "
   ]
  },
  {
   "cell_type": "markdown",
   "metadata": {},
   "source": [
    "Создадим столбец с предыдущими значениями deviceidhash."
   ]
  },
  {
   "cell_type": "code",
   "execution_count": null,
   "metadata": {},
   "outputs": [],
   "source": [
    "data3=data2.reset_index().loc[0:3]\n",
    "data3['deviceidhash2']=data3['deviceidhash'].shift(periods=1)\n",
    "data3"
   ]
  },
  {
   "cell_type": "markdown",
   "metadata": {},
   "source": [
    "Заменим первую строку столбца deviceidhash2 на значение deviceidhash, так как это была первая страница, и у нее не было предыдущих значений."
   ]
  },
  {
   "cell_type": "code",
   "execution_count": null,
   "metadata": {},
   "outputs": [],
   "source": [
    "data3.loc[0, 'deviceidhash2']=data3.loc[0, 'deviceidhash']\n",
    "data3"
   ]
  },
  {
   "cell_type": "markdown",
   "metadata": {},
   "source": [
    "Узнаем какая доля пользователей проходит на следующий шаг."
   ]
  },
  {
   "cell_type": "code",
   "execution_count": null,
   "metadata": {},
   "outputs": [],
   "source": [
    "data3['rate']=round(data3['deviceidhash']/data3['deviceidhash2'], 2)\n",
    "data3"
   ]
  },
  {
   "cell_type": "markdown",
   "metadata": {},
   "source": [
    "Самая большая доля пользователей остается на странице PaymentScreenSuccessful -0.95, а меньше всего на странице OffersScreenAppear-0.62."
   ]
  },
  {
   "cell_type": "markdown",
   "metadata": {},
   "source": [
    "### Посчитаем сколько людей доходит до последнего шага."
   ]
  },
  {
   "cell_type": "code",
   "execution_count": null,
   "metadata": {},
   "outputs": [],
   "source": [
    "data3['ratepeople']=data3['deviceidhash2']-data3['deviceidhash']\n",
    "data3"
   ]
  },
  {
   "cell_type": "markdown",
   "metadata": {},
   "source": [
    "До оплаты доходит 195 человек из 7419, больше всего людей теряется на странице OffersScreenAppear."
   ]
  },
  {
   "cell_type": "markdown",
   "metadata": {},
   "source": [
    "Посчитаем в процентах сколько доходят людей до страницы оплаты."
   ]
  },
  {
   "cell_type": "code",
   "execution_count": null,
   "metadata": {},
   "outputs": [],
   "source": [
    "print(round(data3.loc[3,'deviceidhash']/data3.loc[0,'deviceidhash']*100, 2), '% доходят людей до страницы оплаты.')"
   ]
  },
  {
   "cell_type": "markdown",
   "metadata": {},
   "source": [
    "Построим диаграмму воронки."
   ]
  },
  {
   "cell_type": "code",
   "execution_count": null,
   "metadata": {
    "scrolled": false
   },
   "outputs": [],
   "source": [
    "fig = go.Figure(go.Funnel(\n",
    "    y = data3['eventname'],\n",
    "    x = data3['deviceidhash']))\n",
    "\n",
    "fig.update_layout(title='Диаграмма воронки')\n",
    "\n",
    "fig.show()"
   ]
  },
  {
   "cell_type": "markdown",
   "metadata": {},
   "source": [
    "По воронуе видно, что больше всего людей уходит после перой страницы."
   ]
  },
  {
   "cell_type": "markdown",
   "metadata": {},
   "source": [
    "## Изучим результаты эксперимента."
   ]
  },
  {
   "cell_type": "markdown",
   "metadata": {},
   "source": [
    "### Посчитаем сколько пользователей в каждой экспериментальной группе."
   ]
  },
  {
   "cell_type": "code",
   "execution_count": null,
   "metadata": {},
   "outputs": [],
   "source": [
    "data4=data.groupby('expid' )['deviceidhash'].nunique().sort_values(ascending=False).to_frame()\n",
    "data4"
   ]
  },
  {
   "cell_type": "markdown",
   "metadata": {},
   "source": [
    "Больше всего пользователей в группе 248, меньше всего в 246."
   ]
  },
  {
   "cell_type": "markdown",
   "metadata": {},
   "source": [
    "Проверим, чтобы каждый пользователь принадлежал только одной группе."
   ]
  },
  {
   "cell_type": "code",
   "execution_count": null,
   "metadata": {},
   "outputs": [],
   "source": [
    "usersdata = data.groupby('deviceidhash')['expid'].nunique().to_frame()\n",
    "usersdata\n",
    "us=usersdata.where(usersdata['expid']!=1).count()\n",
    "us\n"
   ]
  },
  {
   "cell_type": "markdown",
   "metadata": {},
   "source": [
    "Каждый пользователь принадлежит только одной группе."
   ]
  },
  {
   "cell_type": "markdown",
   "metadata": {},
   "source": [
    "### Есть 2 контрольные группы для А/А-эксперимента, чтобы проверить корректность всех механизмов и расчётов. Проверим, находятся ли статистические критерии разницу между выборками 246 и 247."
   ]
  },
  {
   "cell_type": "code",
   "execution_count": null,
   "metadata": {},
   "outputs": [],
   "source": [
    "data_expid_eventname = data[data['eventname']!='Tutorial'].groupby(['expid','eventname'])['deviceidhash'].nunique().unstack(0).reset_index().sort_values(by = 246, ascending=False)\n",
    "data_expid_eventname"
   ]
  },
  {
   "cell_type": "markdown",
   "metadata": {},
   "source": [
    "Зададим функцию z-теста. Чтобы исключит ошибку первого рода, сделаем поправку Бонферрони и разделим alpha на 16, так как мы проведем 16 экспериментов."
   ]
  },
  {
   "cell_type": "code",
   "execution_count": null,
   "metadata": {},
   "outputs": [],
   "source": [
    "\n",
    "def ztest(data_expid_eventname, eventname1, expid1, expid2):\n",
    "    alpha = 0.05/16 # критический уровень статистической значимости\n",
    "\n",
    "\n",
    "    successes = np.array([data_expid_eventname.loc[eventname1, expid1], data_expid_eventname.loc[eventname1, expid2]])\n",
    "    trials = np.array([data_expid_eventname[expid1].sum(), data_expid_eventname[expid2].sum()])\n",
    "\n",
    "    # пропорция успехов в первой группе:\n",
    "    p1 = successes[0]/trials[0]\n",
    "\n",
    "    # пропорция успехов во второй группе:\n",
    "    p2 = successes[1]/trials[1]\n",
    "\n",
    "    # пропорция успехов в комбинированном датасете:\n",
    "    p_combined = (successes[0] + successes[1]) / (trials[0] + trials[1])\n",
    "\n",
    "    # разница пропорций в датасетах\n",
    "    difference = p1 - p2\n",
    "    \n",
    "    # считаем статистику в ст.отклонениях стандартного нормального распределения\n",
    "    z_value = difference / mth.sqrt(p_combined * (1 - p_combined) * (1/trials[0] + 1/trials[1]))\n",
    "\n",
    "    # задаем стандартное нормальное распределение (среднее 0, ст.отклонение 1)\n",
    "    distr = stats.norm(0, 1) \n",
    "    \n",
    "    p_value = round((1 - distr.cdf(abs(z_value))) * 2 ,4)\n",
    "\n",
    "    print('p-значение: ', p_value)\n",
    "\n",
    "    if p_value < alpha:\n",
    "        print('Отвергаем нулевую гипотезу: между группами есть значимая разница')\n",
    "    else:\n",
    "        print(\n",
    "            'Не получилось отвергнуть нулевую гипотезу, нет оснований считать группы разными'\n",
    "        )"
   ]
  },
  {
   "cell_type": "markdown",
   "metadata": {},
   "source": [
    "Сранивним группы 246 и 247 всех переходах со страницы на страницу. Сформулируем гипотезы.\n",
    "\n",
    "Нулевая гипотеза: между группами нет значимой разницы.\n",
    "Альтернативная гипотеза: между группами есть значимая разница."
   ]
  },
  {
   "cell_type": "markdown",
   "metadata": {},
   "source": [
    "Сранивним группы 246 и 247 на странице MainScreenAppear."
   ]
  },
  {
   "cell_type": "code",
   "execution_count": null,
   "metadata": {},
   "outputs": [],
   "source": [
    "ztest(data_expid_eventname, 1, 246, 247)"
   ]
  },
  {
   "cell_type": "markdown",
   "metadata": {},
   "source": [
    "Группы 246 и 247 на странице MainScreenAppear одинаковы."
   ]
  },
  {
   "cell_type": "markdown",
   "metadata": {},
   "source": [
    "Сранивним группы 246 и 247 на со странице OffersScreenAppear."
   ]
  },
  {
   "cell_type": "code",
   "execution_count": null,
   "metadata": {},
   "outputs": [],
   "source": [
    "ztest(data_expid_eventname, 2, 246, 247)"
   ]
  },
  {
   "cell_type": "markdown",
   "metadata": {},
   "source": [
    "Группы 246 и 247 на странице OffersScreenAppear одинаковы."
   ]
  },
  {
   "cell_type": "markdown",
   "metadata": {},
   "source": [
    "Сранивним группы 246 и 247 на странице CartScreenAppear."
   ]
  },
  {
   "cell_type": "code",
   "execution_count": null,
   "metadata": {},
   "outputs": [],
   "source": [
    "ztest(data_expid_eventname, 0, 246, 247)"
   ]
  },
  {
   "cell_type": "markdown",
   "metadata": {},
   "source": [
    "Группы 246 и 247 на странице CartScreenAppear одинаковы."
   ]
  },
  {
   "cell_type": "markdown",
   "metadata": {},
   "source": [
    "Сранивним группы 246 и 247 на странице PaymentScreenSuccessful."
   ]
  },
  {
   "cell_type": "code",
   "execution_count": null,
   "metadata": {},
   "outputs": [],
   "source": [
    "ztest(data_expid_eventname, 3, 246, 247)"
   ]
  },
  {
   "cell_type": "markdown",
   "metadata": {},
   "source": [
    "Группы 246 и 247 на странице PaymentScreenSuccessful одинаковы."
   ]
  },
  {
   "cell_type": "markdown",
   "metadata": {},
   "source": [
    "Общий вывод: нет оснований группы 246 и 247 считать разными."
   ]
  },
  {
   "cell_type": "markdown",
   "metadata": {},
   "source": [
    "### Проверим, находятся ли статистические критерии разницу между выборками 246 и 248."
   ]
  },
  {
   "cell_type": "markdown",
   "metadata": {},
   "source": [
    "Сранивним группы 246 и 248 всех переходах со страницы на страницу. Сформулируем гипотезы.\n",
    "\n",
    "Нулевая гипотеза: между группами нет значимой разницы.\n",
    "Альтернативная гипотеза: между группами есть значимая разница."
   ]
  },
  {
   "cell_type": "markdown",
   "metadata": {},
   "source": [
    "Сранивним группы 246 и 248 на странице MainScreenAppear."
   ]
  },
  {
   "cell_type": "code",
   "execution_count": null,
   "metadata": {},
   "outputs": [],
   "source": [
    "ztest(data_expid_eventname, 1, 246, 248)"
   ]
  },
  {
   "cell_type": "markdown",
   "metadata": {},
   "source": [
    "Группы 246 и 248 на странице MainScreenAppear одинаковы."
   ]
  },
  {
   "cell_type": "markdown",
   "metadata": {},
   "source": [
    "Сранивним группы 246 и 248 на странице OffersScreenAppear."
   ]
  },
  {
   "cell_type": "code",
   "execution_count": null,
   "metadata": {},
   "outputs": [],
   "source": [
    "ztest(data_expid_eventname, 2, 246, 248)"
   ]
  },
  {
   "cell_type": "markdown",
   "metadata": {},
   "source": [
    "Группы 246 и 248 на странице OffersScreenAppear одинаковы."
   ]
  },
  {
   "cell_type": "markdown",
   "metadata": {},
   "source": [
    "Сранивним группы 246 и 248 на странице CartScreenAppear."
   ]
  },
  {
   "cell_type": "code",
   "execution_count": null,
   "metadata": {},
   "outputs": [],
   "source": [
    "ztest(data_expid_eventname, 0,  246, 248)"
   ]
  },
  {
   "cell_type": "markdown",
   "metadata": {},
   "source": [
    "Группы 246 и 248 на странице CartScreenAppear одинаковы."
   ]
  },
  {
   "cell_type": "markdown",
   "metadata": {},
   "source": [
    "Сранивним группы 246 и 248 на странице PaymentScreenSuccessful."
   ]
  },
  {
   "cell_type": "code",
   "execution_count": null,
   "metadata": {},
   "outputs": [],
   "source": [
    "ztest(data_expid_eventname, 3, 246, 248)"
   ]
  },
  {
   "cell_type": "markdown",
   "metadata": {},
   "source": [
    "Группы 246 и 248 на странице PaymentScreenSuccessful одинаковы."
   ]
  },
  {
   "cell_type": "markdown",
   "metadata": {},
   "source": [
    "Общий вывод: нет оснований группы 246 и 248 считать разными."
   ]
  },
  {
   "cell_type": "markdown",
   "metadata": {},
   "source": [
    "### Проверим, находятся ли статистические критерии разницу между выборками 247 и 248."
   ]
  },
  {
   "cell_type": "markdown",
   "metadata": {},
   "source": [
    "Сранивним группы 247 и 248 всех переходах со страницы на страницу. Сформулируем гипотезы.\n",
    "\n",
    "Нулевая гипотеза: между группами нет значимой разницы.\n",
    "Альтернативная гипотеза: между группами есть значимая разница."
   ]
  },
  {
   "cell_type": "markdown",
   "metadata": {},
   "source": [
    "Сранивним группы 247 и 248 на странице MainScreenAppear."
   ]
  },
  {
   "cell_type": "code",
   "execution_count": null,
   "metadata": {},
   "outputs": [],
   "source": [
    "ztest(data_expid_eventname, 1, 247, 248)"
   ]
  },
  {
   "cell_type": "markdown",
   "metadata": {},
   "source": [
    "Группы 247 и 248 на странице MainScreenAppear одинаковы."
   ]
  },
  {
   "cell_type": "markdown",
   "metadata": {},
   "source": [
    "Сранивним группы 247 и 248 на странице OffersScreenAppear."
   ]
  },
  {
   "cell_type": "code",
   "execution_count": null,
   "metadata": {},
   "outputs": [],
   "source": [
    "ztest(data_expid_eventname, 2, 247, 248)"
   ]
  },
  {
   "cell_type": "markdown",
   "metadata": {},
   "source": [
    "Группы 247 и 248 на OffersScreenAppear одинаковы."
   ]
  },
  {
   "cell_type": "markdown",
   "metadata": {},
   "source": [
    "Сранивним группы 247 и 248 на CartScreenAppear."
   ]
  },
  {
   "cell_type": "code",
   "execution_count": null,
   "metadata": {},
   "outputs": [],
   "source": [
    "ztest(data_expid_eventname, 0, 247, 248)"
   ]
  },
  {
   "cell_type": "markdown",
   "metadata": {},
   "source": [
    "Группы 247 и 248 на CartScreenAppear одинаковы."
   ]
  },
  {
   "cell_type": "markdown",
   "metadata": {},
   "source": [
    "Сранивним группы 247 и 248 на странице PaymentScreenSuccessful."
   ]
  },
  {
   "cell_type": "code",
   "execution_count": null,
   "metadata": {},
   "outputs": [],
   "source": [
    "ztest(data_expid_eventname, 3, 247, 248)"
   ]
  },
  {
   "cell_type": "markdown",
   "metadata": {},
   "source": [
    "Группы 247 и 248 на странице PaymentScreenSuccessful одинаковы."
   ]
  },
  {
   "cell_type": "markdown",
   "metadata": {},
   "source": [
    "Общий вывод: нет оснований группы 247 и 248 считать разными."
   ]
  },
  {
   "cell_type": "markdown",
   "metadata": {},
   "source": [
    "### Проверим, находятся ли статистические критерии разницу между выборками (246 + 247) и 248."
   ]
  },
  {
   "cell_type": "code",
   "execution_count": null,
   "metadata": {},
   "outputs": [],
   "source": [
    "# Создадим новый столбец объединяющий выборки 246 и 247. Назовем столбец 249.\n",
    "data_expid_eventname[249]=data_expid_eventname[246]+data_expid_eventname[247]\n",
    "data_expid_eventname"
   ]
  },
  {
   "cell_type": "markdown",
   "metadata": {},
   "source": [
    "Сранивним группы (246+247) и 248 всех переходах со страницы на страницу. Сформулируем гипотезы.\n",
    "\n",
    "Нулевая гипотеза: между группами нет значимой разницы. Альтернативная гипотеза: между группами есть значимая разница."
   ]
  },
  {
   "cell_type": "markdown",
   "metadata": {},
   "source": [
    "Сранивним группы (246+247) и 248 на странице MainScreenAppear."
   ]
  },
  {
   "cell_type": "code",
   "execution_count": null,
   "metadata": {},
   "outputs": [],
   "source": [
    "ztest(data_expid_eventname, 1, 249, 248)"
   ]
  },
  {
   "cell_type": "markdown",
   "metadata": {},
   "source": [
    "Группы (246+247) и 248 на странице MainScreenAppear  одинаковы."
   ]
  },
  {
   "cell_type": "markdown",
   "metadata": {},
   "source": [
    "Сранивним группы (246+247) и 248 на странице OffersScreenAppear."
   ]
  },
  {
   "cell_type": "code",
   "execution_count": null,
   "metadata": {},
   "outputs": [],
   "source": [
    "ztest(data_expid_eventname, 2, 249, 248)"
   ]
  },
  {
   "cell_type": "markdown",
   "metadata": {},
   "source": [
    "Группы (246+247) и 248 на странице OffersScreenAppear одинаковы."
   ]
  },
  {
   "cell_type": "markdown",
   "metadata": {},
   "source": [
    "Сранивним группы (246+247) и 248 на со странице CartScreenAppear."
   ]
  },
  {
   "cell_type": "code",
   "execution_count": null,
   "metadata": {},
   "outputs": [],
   "source": [
    "ztest(data_expid_eventname, 0, 249, 248)"
   ]
  },
  {
   "cell_type": "markdown",
   "metadata": {},
   "source": [
    "Группы (246+247) и 248 на странице CartScreenAppear одинаковы."
   ]
  },
  {
   "cell_type": "markdown",
   "metadata": {},
   "source": [
    "Сранивним группы (246+247) и 248 на странице PaymentScreenSuccessful."
   ]
  },
  {
   "cell_type": "code",
   "execution_count": null,
   "metadata": {},
   "outputs": [],
   "source": [
    "ztest(data_expid_eventname, 3, 249, 248)"
   ]
  },
  {
   "cell_type": "markdown",
   "metadata": {},
   "source": [
    "Группы (246+247) и 248 на странице PaymentScreenSuccessful одинаковы."
   ]
  },
  {
   "cell_type": "markdown",
   "metadata": {},
   "source": [
    "Общий вывод: нет оснований группы (246+247) и 248 считать разными."
   ]
  },
  {
   "cell_type": "markdown",
   "metadata": {},
   "source": [
    "##  Посчитаем, сколько проверок статистических гипотез вы сделали. Напишем общие выводы."
   ]
  },
  {
   "cell_type": "markdown",
   "metadata": {},
   "source": [
    "Мы провели 16 проверок. При проверке групп A1A2, A1B, A2B, (A1+A2) статистически значимых различий между группами не было. Чтобы исключить ошибку первого рода, мы использовали поправку Бонферрони на все тесты. Значит пользователям с новым шрифтом привычно, и его можно оставить."
   ]
  },
  {
   "cell_type": "markdown",
   "metadata": {},
   "source": [
    "Группы (246+247) и 248 при переходе со страницы CartScreenAppear на страницу PaymentScreenSuccessful одинаковы.\n",
    "\n",
    "**Общий вывод: с поправкой Бонферрони, нет статистически значимых различий между граппами с новым шрифтом и старым шрифтом. Значит пользователям с новым шрифтом привычно, и его можно оставить.**"
   ]
  },
  {
   "cell_type": "code",
   "execution_count": null,
   "metadata": {},
   "outputs": [],
   "source": []
  }
 ],
 "metadata": {
  "ExecuteTimeLog": [
   {
    "duration": 1271,
    "start_time": "2024-01-16T11:22:45.587Z"
   },
   {
    "duration": 607,
    "start_time": "2024-01-16T11:23:28.198Z"
   },
   {
    "duration": 330,
    "start_time": "2024-01-16T11:28:55.893Z"
   },
   {
    "duration": 4,
    "start_time": "2024-01-16T11:39:09.241Z"
   },
   {
    "duration": 3,
    "start_time": "2024-01-16T11:40:48.457Z"
   },
   {
    "duration": 4,
    "start_time": "2024-01-16T11:41:13.048Z"
   },
   {
    "duration": 15,
    "start_time": "2024-01-16T11:43:18.732Z"
   },
   {
    "duration": 3,
    "start_time": "2024-01-16T11:44:09.317Z"
   },
   {
    "duration": 4,
    "start_time": "2024-01-16T11:44:11.863Z"
   },
   {
    "duration": 3,
    "start_time": "2024-01-16T11:44:12.472Z"
   },
   {
    "duration": 177,
    "start_time": "2024-01-16T11:46:05.171Z"
   },
   {
    "duration": 4,
    "start_time": "2024-01-16T11:46:35.310Z"
   },
   {
    "duration": 20,
    "start_time": "2024-01-16T11:46:43.565Z"
   },
   {
    "duration": 103,
    "start_time": "2024-01-16T12:14:57.241Z"
   },
   {
    "duration": 8,
    "start_time": "2024-01-16T12:15:17.847Z"
   },
   {
    "duration": 1345,
    "start_time": "2024-01-16T12:15:34.407Z"
   },
   {
    "duration": 30,
    "start_time": "2024-01-16T12:16:42.998Z"
   },
   {
    "duration": 8,
    "start_time": "2024-01-16T12:17:02.870Z"
   },
   {
    "duration": 29,
    "start_time": "2024-01-16T12:18:28.783Z"
   },
   {
    "duration": 10,
    "start_time": "2024-01-16T12:18:29.582Z"
   },
   {
    "duration": 308,
    "start_time": "2024-01-16T12:20:41.575Z"
   },
   {
    "duration": 171,
    "start_time": "2024-01-16T12:20:43.363Z"
   },
   {
    "duration": 3,
    "start_time": "2024-01-16T12:20:45.854Z"
   },
   {
    "duration": 19,
    "start_time": "2024-01-16T12:20:46.955Z"
   },
   {
    "duration": 18,
    "start_time": "2024-01-16T12:20:47.624Z"
   },
   {
    "duration": 24,
    "start_time": "2024-01-16T12:21:06.538Z"
   },
   {
    "duration": 8,
    "start_time": "2024-01-16T12:21:08.654Z"
   },
   {
    "duration": 11,
    "start_time": "2024-01-16T12:23:40.558Z"
   },
   {
    "duration": 10,
    "start_time": "2024-01-16T12:23:46.123Z"
   },
   {
    "duration": 15,
    "start_time": "2024-01-16T13:23:37.941Z"
   },
   {
    "duration": 11,
    "start_time": "2024-01-16T13:23:40.351Z"
   },
   {
    "duration": 17,
    "start_time": "2024-01-16T13:24:23.953Z"
   },
   {
    "duration": 9,
    "start_time": "2024-01-16T13:24:24.478Z"
   },
   {
    "duration": 1155,
    "start_time": "2024-01-17T01:43:09.242Z"
   },
   {
    "duration": 566,
    "start_time": "2024-01-17T01:43:10.399Z"
   },
   {
    "duration": 147,
    "start_time": "2024-01-17T01:43:10.967Z"
   },
   {
    "duration": 4,
    "start_time": "2024-01-17T01:43:11.116Z"
   },
   {
    "duration": 35,
    "start_time": "2024-01-17T01:43:11.122Z"
   },
   {
    "duration": 23,
    "start_time": "2024-01-17T01:43:11.158Z"
   },
   {
    "duration": 7,
    "start_time": "2024-01-17T01:43:11.183Z"
   },
   {
    "duration": 17,
    "start_time": "2024-01-17T01:43:11.192Z"
   },
   {
    "duration": 7,
    "start_time": "2024-01-17T01:43:11.211Z"
   },
   {
    "duration": 28,
    "start_time": "2024-01-17T01:44:09.778Z"
   },
   {
    "duration": 73,
    "start_time": "2024-01-17T01:46:21.280Z"
   },
   {
    "duration": 79,
    "start_time": "2024-01-18T07:54:28.685Z"
   },
   {
    "duration": 1356,
    "start_time": "2024-01-18T07:54:35.759Z"
   },
   {
    "duration": 645,
    "start_time": "2024-01-18T07:54:37.117Z"
   },
   {
    "duration": 167,
    "start_time": "2024-01-18T07:54:37.764Z"
   },
   {
    "duration": 4,
    "start_time": "2024-01-18T07:54:37.932Z"
   },
   {
    "duration": 23,
    "start_time": "2024-01-18T07:54:37.939Z"
   },
   {
    "duration": 59,
    "start_time": "2024-01-18T07:54:37.965Z"
   },
   {
    "duration": 10,
    "start_time": "2024-01-18T07:54:38.027Z"
   },
   {
    "duration": 26,
    "start_time": "2024-01-18T07:54:38.038Z"
   },
   {
    "duration": 19,
    "start_time": "2024-01-18T07:54:38.066Z"
   },
   {
    "duration": 70,
    "start_time": "2024-01-18T07:54:38.087Z"
   },
   {
    "duration": 3,
    "start_time": "2024-01-18T07:55:05.890Z"
   },
   {
    "duration": 3,
    "start_time": "2024-01-18T07:56:28.708Z"
   },
   {
    "duration": 67,
    "start_time": "2024-01-18T07:57:53.666Z"
   },
   {
    "duration": 9,
    "start_time": "2024-01-18T07:58:41.562Z"
   },
   {
    "duration": 9,
    "start_time": "2024-01-18T08:01:00.521Z"
   },
   {
    "duration": 7,
    "start_time": "2024-01-18T08:01:18.505Z"
   },
   {
    "duration": 103,
    "start_time": "2024-01-18T08:04:12.392Z"
   },
   {
    "duration": 11,
    "start_time": "2024-01-18T08:04:23.415Z"
   },
   {
    "duration": 324,
    "start_time": "2024-01-18T08:04:34.253Z"
   },
   {
    "duration": 366,
    "start_time": "2024-01-18T08:04:44.479Z"
   },
   {
    "duration": 348,
    "start_time": "2024-01-18T08:05:05.290Z"
   },
   {
    "duration": 378,
    "start_time": "2024-01-18T08:05:15.212Z"
   },
   {
    "duration": 379,
    "start_time": "2024-01-18T08:06:28.710Z"
   },
   {
    "duration": 9,
    "start_time": "2024-01-18T08:07:19.745Z"
   },
   {
    "duration": 324,
    "start_time": "2024-01-18T08:07:33.230Z"
   },
   {
    "duration": 376,
    "start_time": "2024-01-18T08:15:28.061Z"
   },
   {
    "duration": 4,
    "start_time": "2024-01-18T08:16:04.335Z"
   },
   {
    "duration": 25,
    "start_time": "2024-01-18T08:16:29.241Z"
   },
   {
    "duration": 673,
    "start_time": "2024-01-18T08:19:28.947Z"
   },
   {
    "duration": 21,
    "start_time": "2024-01-18T08:27:57.511Z"
   },
   {
    "duration": 272,
    "start_time": "2024-01-18T08:28:21.887Z"
   },
   {
    "duration": 19,
    "start_time": "2024-01-18T08:33:00.185Z"
   },
   {
    "duration": 1560,
    "start_time": "2024-01-18T08:36:31.938Z"
   },
   {
    "duration": 236,
    "start_time": "2024-01-18T08:36:49.537Z"
   },
   {
    "duration": 238,
    "start_time": "2024-01-18T08:37:41.652Z"
   },
   {
    "duration": 9,
    "start_time": "2024-01-18T08:46:16.077Z"
   },
   {
    "duration": 5,
    "start_time": "2024-01-18T08:46:37.886Z"
   },
   {
    "duration": 117,
    "start_time": "2024-01-18T08:46:55.743Z"
   },
   {
    "duration": 5,
    "start_time": "2024-01-18T08:47:25.370Z"
   },
   {
    "duration": 13,
    "start_time": "2024-01-18T08:47:33.593Z"
   },
   {
    "duration": 21,
    "start_time": "2024-01-18T08:51:05.165Z"
   },
   {
    "duration": 162,
    "start_time": "2024-01-18T08:51:33.646Z"
   },
   {
    "duration": 171,
    "start_time": "2024-01-18T08:51:44.044Z"
   },
   {
    "duration": 711,
    "start_time": "2024-01-18T08:54:52.972Z"
   },
   {
    "duration": 645,
    "start_time": "2024-01-18T08:55:18.223Z"
   },
   {
    "duration": 79,
    "start_time": "2024-01-18T08:55:28.989Z"
   },
   {
    "duration": 639,
    "start_time": "2024-01-18T08:55:34.258Z"
   },
   {
    "duration": 75,
    "start_time": "2024-01-18T08:59:02.758Z"
   },
   {
    "duration": 24,
    "start_time": "2024-01-18T08:59:05.657Z"
   },
   {
    "duration": 40,
    "start_time": "2024-01-18T08:59:12.456Z"
   },
   {
    "duration": 31,
    "start_time": "2024-01-18T08:59:17.107Z"
   },
   {
    "duration": 30,
    "start_time": "2024-01-18T08:59:20.985Z"
   },
   {
    "duration": 32,
    "start_time": "2024-01-18T08:59:29.357Z"
   },
   {
    "duration": 26,
    "start_time": "2024-01-18T08:59:38.589Z"
   },
   {
    "duration": 4,
    "start_time": "2024-01-18T09:00:11.728Z"
   },
   {
    "duration": 298,
    "start_time": "2024-01-18T09:00:15.134Z"
   },
   {
    "duration": 23,
    "start_time": "2024-01-18T09:00:51.352Z"
   },
   {
    "duration": 6290,
    "start_time": "2024-01-18T09:02:28.276Z"
   },
   {
    "duration": 396,
    "start_time": "2024-01-18T09:02:49.927Z"
   },
   {
    "duration": 458,
    "start_time": "2024-01-18T09:03:20.351Z"
   },
   {
    "duration": 349,
    "start_time": "2024-01-18T09:03:57.175Z"
   },
   {
    "duration": 349,
    "start_time": "2024-01-18T09:04:30.440Z"
   },
   {
    "duration": 355,
    "start_time": "2024-01-18T09:05:03.818Z"
   },
   {
    "duration": 351,
    "start_time": "2024-01-18T09:07:44.285Z"
   },
   {
    "duration": 10,
    "start_time": "2024-01-18T09:15:00.048Z"
   },
   {
    "duration": 86,
    "start_time": "2024-01-18T09:15:18.198Z"
   },
   {
    "duration": 8,
    "start_time": "2024-01-18T09:15:24.012Z"
   },
   {
    "duration": 20,
    "start_time": "2024-01-18T09:15:30.519Z"
   },
   {
    "duration": 282,
    "start_time": "2024-01-18T09:15:48.364Z"
   },
   {
    "duration": 296,
    "start_time": "2024-01-18T09:17:19.154Z"
   },
   {
    "duration": 7,
    "start_time": "2024-01-18T09:18:28.263Z"
   },
   {
    "duration": 3,
    "start_time": "2024-01-18T09:19:08.963Z"
   },
   {
    "duration": 5,
    "start_time": "2024-01-18T09:19:30.241Z"
   },
   {
    "duration": 162,
    "start_time": "2024-01-18T09:20:19.719Z"
   },
   {
    "duration": 3,
    "start_time": "2024-01-18T09:20:25.609Z"
   },
   {
    "duration": 4,
    "start_time": "2024-01-18T09:20:36.327Z"
   },
   {
    "duration": 3,
    "start_time": "2024-01-18T09:20:48.405Z"
   },
   {
    "duration": 3,
    "start_time": "2024-01-18T09:20:58.143Z"
   },
   {
    "duration": 4,
    "start_time": "2024-01-18T09:21:16.126Z"
   },
   {
    "duration": 4,
    "start_time": "2024-01-18T09:21:35.165Z"
   },
   {
    "duration": 34,
    "start_time": "2024-01-18T09:26:41.011Z"
   },
   {
    "duration": 27,
    "start_time": "2024-01-18T09:27:17.539Z"
   },
   {
    "duration": 25,
    "start_time": "2024-01-18T09:28:18.949Z"
   },
   {
    "duration": 28,
    "start_time": "2024-01-18T09:28:36.365Z"
   },
   {
    "duration": 30,
    "start_time": "2024-01-18T09:29:04.481Z"
   },
   {
    "duration": 24,
    "start_time": "2024-01-18T09:30:00.052Z"
   },
   {
    "duration": 25,
    "start_time": "2024-01-18T09:30:05.735Z"
   },
   {
    "duration": 24,
    "start_time": "2024-01-18T09:30:31.217Z"
   },
   {
    "duration": 25,
    "start_time": "2024-01-18T09:30:39.648Z"
   },
   {
    "duration": 99,
    "start_time": "2024-01-18T09:30:59.706Z"
   },
   {
    "duration": 2,
    "start_time": "2024-01-18T09:31:31.875Z"
   },
   {
    "duration": 46,
    "start_time": "2024-01-19T06:14:26.933Z"
   },
   {
    "duration": 1272,
    "start_time": "2024-01-19T06:14:46.650Z"
   },
   {
    "duration": 585,
    "start_time": "2024-01-19T06:14:47.924Z"
   },
   {
    "duration": 152,
    "start_time": "2024-01-19T06:14:48.511Z"
   },
   {
    "duration": 3,
    "start_time": "2024-01-19T06:14:48.665Z"
   },
   {
    "duration": 21,
    "start_time": "2024-01-19T06:14:48.670Z"
   },
   {
    "duration": 15,
    "start_time": "2024-01-19T06:14:48.692Z"
   },
   {
    "duration": 24,
    "start_time": "2024-01-19T06:14:48.708Z"
   },
   {
    "duration": 7,
    "start_time": "2024-01-19T06:14:48.733Z"
   },
   {
    "duration": 16,
    "start_time": "2024-01-19T06:14:48.765Z"
   },
   {
    "duration": 8,
    "start_time": "2024-01-19T06:14:48.782Z"
   },
   {
    "duration": 4,
    "start_time": "2024-01-19T06:14:48.791Z"
   },
   {
    "duration": 9,
    "start_time": "2024-01-19T06:14:48.796Z"
   },
   {
    "duration": 6,
    "start_time": "2024-01-19T06:14:48.806Z"
   },
   {
    "duration": 634,
    "start_time": "2024-01-19T06:14:48.814Z"
   },
   {
    "duration": 322,
    "start_time": "2024-01-19T06:14:49.450Z"
   },
   {
    "duration": 25,
    "start_time": "2024-01-19T06:14:49.774Z"
   },
   {
    "duration": 244,
    "start_time": "2024-01-19T06:14:49.801Z"
   },
   {
    "duration": 18,
    "start_time": "2024-01-19T06:14:50.047Z"
   },
   {
    "duration": 3,
    "start_time": "2024-01-19T06:14:50.067Z"
   },
   {
    "duration": 25,
    "start_time": "2024-01-19T06:14:50.072Z"
   },
   {
    "duration": 32,
    "start_time": "2024-01-19T06:14:50.099Z"
   },
   {
    "duration": 40,
    "start_time": "2024-01-19T06:14:57.934Z"
   },
   {
    "duration": 23,
    "start_time": "2024-01-19T07:20:21.078Z"
   },
   {
    "duration": 48,
    "start_time": "2024-01-19T07:20:44.340Z"
   },
   {
    "duration": 46,
    "start_time": "2024-01-19T07:21:05.159Z"
   },
   {
    "duration": 56,
    "start_time": "2024-01-19T07:22:37.760Z"
   },
   {
    "duration": 49,
    "start_time": "2024-01-19T07:24:15.175Z"
   },
   {
    "duration": 61,
    "start_time": "2024-01-19T07:24:23.518Z"
   },
   {
    "duration": 56,
    "start_time": "2024-01-19T07:25:05.684Z"
   },
   {
    "duration": 55,
    "start_time": "2024-01-19T07:25:21.450Z"
   },
   {
    "duration": 69,
    "start_time": "2024-01-19T07:48:57.965Z"
   },
   {
    "duration": 12,
    "start_time": "2024-01-19T07:50:36.707Z"
   },
   {
    "duration": 9,
    "start_time": "2024-01-19T07:53:06.832Z"
   },
   {
    "duration": 5,
    "start_time": "2024-01-19T07:59:11.605Z"
   },
   {
    "duration": 11,
    "start_time": "2024-01-19T07:59:19.501Z"
   },
   {
    "duration": 9,
    "start_time": "2024-01-19T08:01:31.496Z"
   },
   {
    "duration": 10,
    "start_time": "2024-01-19T08:01:41.067Z"
   },
   {
    "duration": 4,
    "start_time": "2024-01-19T08:10:03.133Z"
   },
   {
    "duration": 8,
    "start_time": "2024-01-19T08:10:09.621Z"
   },
   {
    "duration": 10,
    "start_time": "2024-01-19T08:10:35.610Z"
   },
   {
    "duration": 4,
    "start_time": "2024-01-19T08:10:43.512Z"
   },
   {
    "duration": 317,
    "start_time": "2024-01-19T08:10:43.518Z"
   },
   {
    "duration": 167,
    "start_time": "2024-01-19T08:10:43.837Z"
   },
   {
    "duration": 3,
    "start_time": "2024-01-19T08:10:44.006Z"
   },
   {
    "duration": 19,
    "start_time": "2024-01-19T08:10:44.011Z"
   },
   {
    "duration": 34,
    "start_time": "2024-01-19T08:10:44.031Z"
   },
   {
    "duration": 41,
    "start_time": "2024-01-19T08:10:44.067Z"
   },
   {
    "duration": 7,
    "start_time": "2024-01-19T08:10:44.110Z"
   },
   {
    "duration": 24,
    "start_time": "2024-01-19T08:10:44.119Z"
   },
   {
    "duration": 10,
    "start_time": "2024-01-19T08:10:44.144Z"
   },
   {
    "duration": 14,
    "start_time": "2024-01-19T08:10:44.156Z"
   },
   {
    "duration": 12,
    "start_time": "2024-01-19T08:10:44.171Z"
   },
   {
    "duration": 6,
    "start_time": "2024-01-19T08:10:44.185Z"
   },
   {
    "duration": 624,
    "start_time": "2024-01-19T08:10:44.194Z"
   },
   {
    "duration": 314,
    "start_time": "2024-01-19T08:10:44.820Z"
   },
   {
    "duration": 30,
    "start_time": "2024-01-19T08:10:45.136Z"
   },
   {
    "duration": 315,
    "start_time": "2024-01-19T08:10:45.168Z"
   },
   {
    "duration": 6,
    "start_time": "2024-01-19T08:10:45.484Z"
   },
   {
    "duration": 3,
    "start_time": "2024-01-19T08:10:45.492Z"
   },
   {
    "duration": 22,
    "start_time": "2024-01-19T08:10:45.497Z"
   },
   {
    "duration": 77,
    "start_time": "2024-01-19T08:10:45.520Z"
   },
   {
    "duration": 11,
    "start_time": "2024-01-19T08:10:45.598Z"
   },
   {
    "duration": 8,
    "start_time": "2024-01-19T08:10:45.610Z"
   },
   {
    "duration": 10,
    "start_time": "2024-01-19T08:10:45.620Z"
   },
   {
    "duration": 11,
    "start_time": "2024-01-19T08:10:57.764Z"
   },
   {
    "duration": 10,
    "start_time": "2024-01-19T08:16:53.775Z"
   },
   {
    "duration": 4,
    "start_time": "2024-01-19T08:20:52.994Z"
   },
   {
    "duration": 4,
    "start_time": "2024-01-19T08:21:07.956Z"
   },
   {
    "duration": 4,
    "start_time": "2024-01-19T08:21:18.213Z"
   },
   {
    "duration": 3,
    "start_time": "2024-01-19T08:21:33.906Z"
   },
   {
    "duration": 3,
    "start_time": "2024-01-19T08:21:42.559Z"
   },
   {
    "duration": 16,
    "start_time": "2024-01-19T09:14:17.366Z"
   },
   {
    "duration": 11,
    "start_time": "2024-01-19T09:14:25.277Z"
   },
   {
    "duration": 38,
    "start_time": "2024-01-19T09:14:32.079Z"
   },
   {
    "duration": 5636,
    "start_time": "2024-01-19T11:58:56.210Z"
   },
   {
    "duration": 10,
    "start_time": "2024-01-19T12:02:04.292Z"
   },
   {
    "duration": 7,
    "start_time": "2024-01-19T12:02:29.135Z"
   },
   {
    "duration": 47,
    "start_time": "2024-01-19T12:04:45.600Z"
   },
   {
    "duration": 62,
    "start_time": "2024-01-19T12:06:13.109Z"
   },
   {
    "duration": 113,
    "start_time": "2024-01-19T12:06:36.505Z"
   },
   {
    "duration": 11,
    "start_time": "2024-01-19T12:51:21.385Z"
   },
   {
    "duration": 8,
    "start_time": "2024-01-19T12:51:22.559Z"
   },
   {
    "duration": 10,
    "start_time": "2024-01-19T12:51:23.937Z"
   },
   {
    "duration": 12,
    "start_time": "2024-01-19T12:51:28.021Z"
   },
   {
    "duration": 96,
    "start_time": "2024-01-19T12:51:32.660Z"
   },
   {
    "duration": 4,
    "start_time": "2024-01-19T12:51:44.057Z"
   },
   {
    "duration": 28,
    "start_time": "2024-01-19T12:56:27.028Z"
   },
   {
    "duration": 25,
    "start_time": "2024-01-19T12:56:53.879Z"
   },
   {
    "duration": 1360,
    "start_time": "2024-01-19T12:57:36.676Z"
   },
   {
    "duration": 4,
    "start_time": "2024-01-19T12:58:28.564Z"
   },
   {
    "duration": 4,
    "start_time": "2024-01-19T12:58:43.740Z"
   },
   {
    "duration": 31,
    "start_time": "2024-01-19T12:58:56.345Z"
   },
   {
    "duration": 33,
    "start_time": "2024-01-19T12:59:47.503Z"
   },
   {
    "duration": 35,
    "start_time": "2024-01-19T13:00:27.101Z"
   },
   {
    "duration": 34,
    "start_time": "2024-01-19T13:01:14.053Z"
   },
   {
    "duration": 46,
    "start_time": "2024-01-19T13:01:34.502Z"
   },
   {
    "duration": 34,
    "start_time": "2024-01-19T13:02:23.401Z"
   },
   {
    "duration": 42,
    "start_time": "2024-01-19T13:03:18.708Z"
   },
   {
    "duration": 39,
    "start_time": "2024-01-19T13:04:00.853Z"
   },
   {
    "duration": 3,
    "start_time": "2024-01-19T13:04:46.606Z"
   },
   {
    "duration": 4,
    "start_time": "2024-01-19T13:06:56.824Z"
   },
   {
    "duration": 37,
    "start_time": "2024-01-19T13:09:06.436Z"
   },
   {
    "duration": 39,
    "start_time": "2024-01-19T13:09:17.646Z"
   },
   {
    "duration": 4,
    "start_time": "2024-01-19T13:09:37.696Z"
   },
   {
    "duration": 166,
    "start_time": "2024-01-19T13:10:02.644Z"
   },
   {
    "duration": 38,
    "start_time": "2024-01-19T13:11:07.300Z"
   },
   {
    "duration": 4,
    "start_time": "2024-01-19T13:11:08.231Z"
   },
   {
    "duration": 3,
    "start_time": "2024-01-19T13:15:11.323Z"
   },
   {
    "duration": 27,
    "start_time": "2024-01-19T13:15:15.608Z"
   },
   {
    "duration": 30,
    "start_time": "2024-01-19T13:15:26.623Z"
   },
   {
    "duration": 34,
    "start_time": "2024-01-19T13:15:50.350Z"
   },
   {
    "duration": 30,
    "start_time": "2024-01-19T13:17:51.575Z"
   },
   {
    "duration": 27,
    "start_time": "2024-01-19T13:18:37.724Z"
   },
   {
    "duration": 41,
    "start_time": "2024-01-19T13:20:32.718Z"
   },
   {
    "duration": 42,
    "start_time": "2024-01-19T13:21:05.457Z"
   },
   {
    "duration": 54,
    "start_time": "2024-01-19T13:24:15.273Z"
   },
   {
    "duration": 14,
    "start_time": "2024-01-19T13:27:33.471Z"
   },
   {
    "duration": 6,
    "start_time": "2024-01-19T13:27:39.158Z"
   },
   {
    "duration": 4,
    "start_time": "2024-01-19T13:27:49.004Z"
   },
   {
    "duration": 139,
    "start_time": "2024-01-19T13:34:23.937Z"
   },
   {
    "duration": 136,
    "start_time": "2024-01-19T13:34:35.745Z"
   },
   {
    "duration": 132,
    "start_time": "2024-01-19T13:34:45.116Z"
   },
   {
    "duration": 138,
    "start_time": "2024-01-19T13:34:53.782Z"
   },
   {
    "duration": 13,
    "start_time": "2024-01-19T13:35:31.993Z"
   },
   {
    "duration": 77,
    "start_time": "2024-01-19T13:35:42.311Z"
   },
   {
    "duration": 77,
    "start_time": "2024-01-19T13:43:58.898Z"
   },
   {
    "duration": 59,
    "start_time": "2024-01-19T13:44:33.577Z"
   },
   {
    "duration": 70,
    "start_time": "2024-01-19T13:44:38.050Z"
   },
   {
    "duration": 62,
    "start_time": "2024-01-19T13:44:55.562Z"
   },
   {
    "duration": 68,
    "start_time": "2024-01-19T13:46:59.393Z"
   },
   {
    "duration": 90,
    "start_time": "2024-01-19T13:48:49.697Z"
   },
   {
    "duration": 96,
    "start_time": "2024-01-19T13:49:27.401Z"
   },
   {
    "duration": 97,
    "start_time": "2024-01-19T13:49:47.450Z"
   },
   {
    "duration": 87,
    "start_time": "2024-01-19T13:50:21.510Z"
   },
   {
    "duration": 11,
    "start_time": "2024-01-19T14:11:07.250Z"
   },
   {
    "duration": 2159,
    "start_time": "2024-01-19T14:11:17.203Z"
   },
   {
    "duration": 18,
    "start_time": "2024-01-19T14:11:34.906Z"
   },
   {
    "duration": 20,
    "start_time": "2024-01-19T14:11:57.640Z"
   },
   {
    "duration": 17,
    "start_time": "2024-01-19T14:12:11.354Z"
   },
   {
    "duration": 19,
    "start_time": "2024-01-19T14:12:17.567Z"
   },
   {
    "duration": 21,
    "start_time": "2024-01-19T14:13:20.356Z"
   },
   {
    "duration": 17,
    "start_time": "2024-01-19T14:13:26.873Z"
   },
   {
    "duration": 82,
    "start_time": "2024-01-19T14:16:46.259Z"
   },
   {
    "duration": 67,
    "start_time": "2024-01-19T14:18:06.834Z"
   },
   {
    "duration": 19,
    "start_time": "2024-01-19T14:18:20.460Z"
   },
   {
    "duration": 19,
    "start_time": "2024-01-19T14:18:26.193Z"
   },
   {
    "duration": 72,
    "start_time": "2024-01-19T14:41:47.493Z"
   },
   {
    "duration": 98,
    "start_time": "2024-01-19T14:42:37.350Z"
   },
   {
    "duration": 90,
    "start_time": "2024-01-19T14:43:33.673Z"
   },
   {
    "duration": 95,
    "start_time": "2024-01-19T14:43:44.953Z"
   },
   {
    "duration": 91,
    "start_time": "2024-01-19T14:43:56.939Z"
   },
   {
    "duration": 90,
    "start_time": "2024-01-19T14:44:27.537Z"
   },
   {
    "duration": 94,
    "start_time": "2024-01-19T14:46:23.216Z"
   },
   {
    "duration": 94,
    "start_time": "2024-01-19T14:46:43.640Z"
   },
   {
    "duration": 92,
    "start_time": "2024-01-19T14:47:02.165Z"
   },
   {
    "duration": 101,
    "start_time": "2024-01-19T14:48:01.325Z"
   },
   {
    "duration": 92,
    "start_time": "2024-01-19T14:48:15.317Z"
   },
   {
    "duration": 95,
    "start_time": "2024-01-19T14:48:26.088Z"
   },
   {
    "duration": 1169,
    "start_time": "2024-01-20T04:38:25.954Z"
   },
   {
    "duration": 611,
    "start_time": "2024-01-20T04:38:27.125Z"
   },
   {
    "duration": 150,
    "start_time": "2024-01-20T04:38:27.738Z"
   },
   {
    "duration": 4,
    "start_time": "2024-01-20T04:38:27.890Z"
   },
   {
    "duration": 21,
    "start_time": "2024-01-20T04:38:27.895Z"
   },
   {
    "duration": 20,
    "start_time": "2024-01-20T04:38:27.917Z"
   },
   {
    "duration": 22,
    "start_time": "2024-01-20T04:38:27.952Z"
   },
   {
    "duration": 7,
    "start_time": "2024-01-20T04:38:27.976Z"
   },
   {
    "duration": 16,
    "start_time": "2024-01-20T04:38:27.984Z"
   },
   {
    "duration": 8,
    "start_time": "2024-01-20T04:38:28.002Z"
   },
   {
    "duration": 3,
    "start_time": "2024-01-20T04:38:28.011Z"
   },
   {
    "duration": 9,
    "start_time": "2024-01-20T04:38:28.015Z"
   },
   {
    "duration": 6,
    "start_time": "2024-01-20T04:38:28.052Z"
   },
   {
    "duration": 571,
    "start_time": "2024-01-20T04:38:28.059Z"
   },
   {
    "duration": 322,
    "start_time": "2024-01-20T04:38:28.632Z"
   },
   {
    "duration": 25,
    "start_time": "2024-01-20T04:38:28.955Z"
   },
   {
    "duration": 249,
    "start_time": "2024-01-20T04:38:28.982Z"
   },
   {
    "duration": 6,
    "start_time": "2024-01-20T04:38:29.232Z"
   },
   {
    "duration": 12,
    "start_time": "2024-01-20T04:38:29.240Z"
   },
   {
    "duration": 21,
    "start_time": "2024-01-20T04:38:29.253Z"
   },
   {
    "duration": 53,
    "start_time": "2024-01-20T04:38:29.275Z"
   },
   {
    "duration": 29,
    "start_time": "2024-01-20T04:38:29.330Z"
   },
   {
    "duration": 9,
    "start_time": "2024-01-20T04:38:29.360Z"
   },
   {
    "duration": 17,
    "start_time": "2024-01-20T04:38:29.371Z"
   },
   {
    "duration": 20,
    "start_time": "2024-01-20T04:38:29.389Z"
   },
   {
    "duration": 21,
    "start_time": "2024-01-20T04:38:29.410Z"
   },
   {
    "duration": 41,
    "start_time": "2024-01-20T04:38:29.432Z"
   },
   {
    "duration": 86,
    "start_time": "2024-01-20T04:38:29.476Z"
   },
   {
    "duration": 6,
    "start_time": "2024-01-20T05:19:38.081Z"
   },
   {
    "duration": 1219,
    "start_time": "2024-01-20T05:22:24.314Z"
   },
   {
    "duration": 5,
    "start_time": "2024-01-20T05:23:05.100Z"
   },
   {
    "duration": 6,
    "start_time": "2024-01-20T05:24:51.114Z"
   },
   {
    "duration": 5,
    "start_time": "2024-01-20T05:25:46.309Z"
   },
   {
    "duration": 4,
    "start_time": "2024-01-20T05:25:48.788Z"
   },
   {
    "duration": 5,
    "start_time": "2024-01-20T05:25:55.871Z"
   },
   {
    "duration": 4,
    "start_time": "2024-01-20T05:25:57.790Z"
   },
   {
    "duration": 4,
    "start_time": "2024-01-20T05:29:28.921Z"
   },
   {
    "duration": 4,
    "start_time": "2024-01-20T05:31:02.194Z"
   },
   {
    "duration": 4,
    "start_time": "2024-01-20T05:33:02.230Z"
   },
   {
    "duration": 5,
    "start_time": "2024-01-20T05:36:02.850Z"
   },
   {
    "duration": 5,
    "start_time": "2024-01-20T05:36:07.405Z"
   },
   {
    "duration": 4,
    "start_time": "2024-01-20T05:36:25.451Z"
   },
   {
    "duration": 4,
    "start_time": "2024-01-20T05:36:30.810Z"
   },
   {
    "duration": 84,
    "start_time": "2024-01-20T05:36:36.918Z"
   },
   {
    "duration": 2,
    "start_time": "2024-01-20T05:36:54.989Z"
   },
   {
    "duration": 4,
    "start_time": "2024-01-20T05:37:02.791Z"
   },
   {
    "duration": 4,
    "start_time": "2024-01-20T05:37:05.771Z"
   },
   {
    "duration": 4,
    "start_time": "2024-01-20T05:37:08.385Z"
   },
   {
    "duration": 4,
    "start_time": "2024-01-20T05:37:10.874Z"
   },
   {
    "duration": 5,
    "start_time": "2024-01-20T05:50:06.225Z"
   },
   {
    "duration": 4,
    "start_time": "2024-01-20T05:51:39.615Z"
   },
   {
    "duration": 5,
    "start_time": "2024-01-20T05:52:48.337Z"
   },
   {
    "duration": 89,
    "start_time": "2024-01-20T05:53:11.294Z"
   },
   {
    "duration": 5,
    "start_time": "2024-01-20T05:55:02.140Z"
   },
   {
    "duration": 4,
    "start_time": "2024-01-20T05:55:40.868Z"
   },
   {
    "duration": 4,
    "start_time": "2024-01-20T05:56:01.841Z"
   },
   {
    "duration": 5,
    "start_time": "2024-01-20T05:57:25.801Z"
   },
   {
    "duration": 4,
    "start_time": "2024-01-20T05:57:41.408Z"
   },
   {
    "duration": 5,
    "start_time": "2024-01-20T06:00:14.157Z"
   },
   {
    "duration": 9,
    "start_time": "2024-01-20T06:04:39.850Z"
   },
   {
    "duration": 7,
    "start_time": "2024-01-20T06:04:46.027Z"
   },
   {
    "duration": 5,
    "start_time": "2024-01-20T06:06:23.535Z"
   },
   {
    "duration": 76,
    "start_time": "2024-01-20T06:07:27.598Z"
   },
   {
    "duration": 4,
    "start_time": "2024-01-20T06:07:41.316Z"
   },
   {
    "duration": 5,
    "start_time": "2024-01-20T06:07:48.403Z"
   },
   {
    "duration": 4,
    "start_time": "2024-01-20T06:09:35.214Z"
   },
   {
    "duration": 5,
    "start_time": "2024-01-20T06:09:45.708Z"
   },
   {
    "duration": 75,
    "start_time": "2024-01-20T06:17:52.095Z"
   },
   {
    "duration": 3,
    "start_time": "2024-01-20T06:18:01.264Z"
   },
   {
    "duration": 3,
    "start_time": "2024-01-20T06:18:26.052Z"
   },
   {
    "duration": 3,
    "start_time": "2024-01-20T06:19:21.367Z"
   },
   {
    "duration": 6,
    "start_time": "2024-01-20T07:39:27.182Z"
   },
   {
    "duration": 5,
    "start_time": "2024-01-20T07:41:02.618Z"
   },
   {
    "duration": 4,
    "start_time": "2024-01-20T07:42:26.619Z"
   },
   {
    "duration": 5,
    "start_time": "2024-01-20T07:42:57.663Z"
   },
   {
    "duration": 5,
    "start_time": "2024-01-20T07:44:08.457Z"
   },
   {
    "duration": 4,
    "start_time": "2024-01-20T07:46:39.633Z"
   },
   {
    "duration": 4,
    "start_time": "2024-01-20T07:47:35.819Z"
   },
   {
    "duration": 4,
    "start_time": "2024-01-20T07:48:25.711Z"
   },
   {
    "duration": 4,
    "start_time": "2024-01-20T07:49:31.909Z"
   },
   {
    "duration": 4,
    "start_time": "2024-01-20T07:50:28.635Z"
   },
   {
    "duration": 5,
    "start_time": "2024-01-20T07:51:11.475Z"
   },
   {
    "duration": 4,
    "start_time": "2024-01-20T07:52:59.011Z"
   },
   {
    "duration": 5,
    "start_time": "2024-01-20T07:54:17.322Z"
   },
   {
    "duration": 4,
    "start_time": "2024-01-20T07:55:58.879Z"
   },
   {
    "duration": 3,
    "start_time": "2024-01-20T07:59:29.533Z"
   },
   {
    "duration": 293,
    "start_time": "2024-01-20T07:59:29.538Z"
   },
   {
    "duration": 164,
    "start_time": "2024-01-20T07:59:29.833Z"
   },
   {
    "duration": 5,
    "start_time": "2024-01-20T07:59:29.999Z"
   },
   {
    "duration": 67,
    "start_time": "2024-01-20T07:59:30.006Z"
   },
   {
    "duration": 72,
    "start_time": "2024-01-20T07:59:30.075Z"
   },
   {
    "duration": 64,
    "start_time": "2024-01-20T07:59:30.149Z"
   },
   {
    "duration": 8,
    "start_time": "2024-01-20T07:59:30.214Z"
   },
   {
    "duration": 99,
    "start_time": "2024-01-20T07:59:30.225Z"
   },
   {
    "duration": 31,
    "start_time": "2024-01-20T07:59:30.325Z"
   },
   {
    "duration": 57,
    "start_time": "2024-01-20T07:59:30.357Z"
   },
   {
    "duration": 120,
    "start_time": "2024-01-20T07:59:30.415Z"
   },
   {
    "duration": 68,
    "start_time": "2024-01-20T07:59:30.537Z"
   },
   {
    "duration": 662,
    "start_time": "2024-01-20T07:59:30.606Z"
   },
   {
    "duration": 321,
    "start_time": "2024-01-20T07:59:31.270Z"
   },
   {
    "duration": 21,
    "start_time": "2024-01-20T07:59:31.592Z"
   },
   {
    "duration": 295,
    "start_time": "2024-01-20T07:59:31.615Z"
   },
   {
    "duration": 7,
    "start_time": "2024-01-20T07:59:31.911Z"
   },
   {
    "duration": 3,
    "start_time": "2024-01-20T07:59:31.919Z"
   },
   {
    "duration": 35,
    "start_time": "2024-01-20T07:59:31.924Z"
   },
   {
    "duration": 50,
    "start_time": "2024-01-20T07:59:31.961Z"
   },
   {
    "duration": 8,
    "start_time": "2024-01-20T07:59:32.013Z"
   },
   {
    "duration": 29,
    "start_time": "2024-01-20T07:59:32.023Z"
   },
   {
    "duration": 9,
    "start_time": "2024-01-20T07:59:32.054Z"
   },
   {
    "duration": 10,
    "start_time": "2024-01-20T07:59:32.064Z"
   },
   {
    "duration": 8,
    "start_time": "2024-01-20T07:59:32.076Z"
   },
   {
    "duration": 33,
    "start_time": "2024-01-20T07:59:32.085Z"
   },
   {
    "duration": 98,
    "start_time": "2024-01-20T07:59:32.119Z"
   },
   {
    "duration": 5,
    "start_time": "2024-01-20T07:59:32.219Z"
   },
   {
    "duration": 22,
    "start_time": "2024-01-20T07:59:32.226Z"
   },
   {
    "duration": 6,
    "start_time": "2024-01-20T07:59:32.250Z"
   },
   {
    "duration": 21,
    "start_time": "2024-01-20T07:59:32.257Z"
   },
   {
    "duration": 5,
    "start_time": "2024-01-20T07:59:32.280Z"
   },
   {
    "duration": 5,
    "start_time": "2024-01-20T07:59:32.286Z"
   },
   {
    "duration": 4,
    "start_time": "2024-01-20T07:59:32.293Z"
   },
   {
    "duration": 7,
    "start_time": "2024-01-20T07:59:32.298Z"
   },
   {
    "duration": 5,
    "start_time": "2024-01-20T07:59:32.306Z"
   },
   {
    "duration": 6,
    "start_time": "2024-01-20T07:59:32.312Z"
   },
   {
    "duration": 11,
    "start_time": "2024-01-20T07:59:32.319Z"
   },
   {
    "duration": 24,
    "start_time": "2024-01-20T07:59:32.331Z"
   },
   {
    "duration": 15,
    "start_time": "2024-01-20T07:59:32.357Z"
   },
   {
    "duration": 11,
    "start_time": "2024-01-20T07:59:32.373Z"
   },
   {
    "duration": 6,
    "start_time": "2024-01-20T07:59:32.385Z"
   },
   {
    "duration": 6,
    "start_time": "2024-01-20T07:59:32.392Z"
   },
   {
    "duration": 7,
    "start_time": "2024-01-20T07:59:32.399Z"
   },
   {
    "duration": 4,
    "start_time": "2024-01-20T07:59:32.407Z"
   },
   {
    "duration": 12,
    "start_time": "2024-01-20T07:59:32.413Z"
   },
   {
    "duration": 6,
    "start_time": "2024-01-20T07:59:32.426Z"
   },
   {
    "duration": 5,
    "start_time": "2024-01-20T07:59:32.452Z"
   },
   {
    "duration": 14,
    "start_time": "2024-01-20T07:59:32.459Z"
   },
   {
    "duration": 5,
    "start_time": "2024-01-20T07:59:32.475Z"
   },
   {
    "duration": 15,
    "start_time": "2024-01-20T07:59:32.481Z"
   },
   {
    "duration": 10,
    "start_time": "2024-01-20T07:59:32.497Z"
   },
   {
    "duration": 8,
    "start_time": "2024-01-20T07:59:32.508Z"
   },
   {
    "duration": 14,
    "start_time": "2024-01-20T07:59:32.518Z"
   },
   {
    "duration": 15,
    "start_time": "2024-01-20T07:59:32.534Z"
   },
   {
    "duration": 1260,
    "start_time": "2024-01-20T08:42:19.465Z"
   },
   {
    "duration": 616,
    "start_time": "2024-01-20T08:42:20.727Z"
   },
   {
    "duration": 163,
    "start_time": "2024-01-20T08:42:21.345Z"
   },
   {
    "duration": 4,
    "start_time": "2024-01-20T08:42:21.510Z"
   },
   {
    "duration": 30,
    "start_time": "2024-01-20T08:42:21.515Z"
   },
   {
    "duration": 23,
    "start_time": "2024-01-20T08:42:21.546Z"
   },
   {
    "duration": 42,
    "start_time": "2024-01-20T08:42:21.571Z"
   },
   {
    "duration": 8,
    "start_time": "2024-01-20T08:42:21.614Z"
   },
   {
    "duration": 31,
    "start_time": "2024-01-20T08:42:21.623Z"
   },
   {
    "duration": 18,
    "start_time": "2024-01-20T08:42:21.657Z"
   },
   {
    "duration": 14,
    "start_time": "2024-01-20T08:42:21.677Z"
   },
   {
    "duration": 15,
    "start_time": "2024-01-20T08:42:21.692Z"
   },
   {
    "duration": 6,
    "start_time": "2024-01-20T08:42:21.708Z"
   },
   {
    "duration": 569,
    "start_time": "2024-01-20T08:42:21.716Z"
   },
   {
    "duration": 340,
    "start_time": "2024-01-20T08:42:22.286Z"
   },
   {
    "duration": 37,
    "start_time": "2024-01-20T08:42:22.628Z"
   },
   {
    "duration": 279,
    "start_time": "2024-01-20T08:42:22.667Z"
   },
   {
    "duration": 18,
    "start_time": "2024-01-20T08:42:22.948Z"
   },
   {
    "duration": 7,
    "start_time": "2024-01-20T08:42:22.967Z"
   },
   {
    "duration": 36,
    "start_time": "2024-01-20T08:42:22.975Z"
   },
   {
    "duration": 63,
    "start_time": "2024-01-20T08:42:23.012Z"
   },
   {
    "duration": 10,
    "start_time": "2024-01-20T08:42:23.076Z"
   },
   {
    "duration": 14,
    "start_time": "2024-01-20T08:42:23.087Z"
   },
   {
    "duration": 10,
    "start_time": "2024-01-20T08:42:23.103Z"
   },
   {
    "duration": 22,
    "start_time": "2024-01-20T08:42:23.114Z"
   },
   {
    "duration": 15,
    "start_time": "2024-01-20T08:42:23.138Z"
   },
   {
    "duration": 46,
    "start_time": "2024-01-20T08:42:23.155Z"
   },
   {
    "duration": 86,
    "start_time": "2024-01-20T08:42:23.205Z"
   },
   {
    "duration": 5,
    "start_time": "2024-01-20T08:42:23.292Z"
   },
   {
    "duration": 23,
    "start_time": "2024-01-20T08:42:23.299Z"
   },
   {
    "duration": 14,
    "start_time": "2024-01-20T08:42:23.323Z"
   },
   {
    "duration": 8,
    "start_time": "2024-01-20T08:42:23.339Z"
   },
   {
    "duration": 15,
    "start_time": "2024-01-20T08:42:23.348Z"
   },
   {
    "duration": 20,
    "start_time": "2024-01-20T08:42:23.365Z"
   },
   {
    "duration": 17,
    "start_time": "2024-01-20T08:42:23.387Z"
   },
   {
    "duration": 28,
    "start_time": "2024-01-20T08:42:23.405Z"
   },
   {
    "duration": 11,
    "start_time": "2024-01-20T08:42:23.434Z"
   },
   {
    "duration": 8,
    "start_time": "2024-01-20T08:42:23.446Z"
   },
   {
    "duration": 40,
    "start_time": "2024-01-20T08:42:23.455Z"
   },
   {
    "duration": 10,
    "start_time": "2024-01-20T08:42:23.497Z"
   },
   {
    "duration": 13,
    "start_time": "2024-01-20T08:42:23.509Z"
   },
   {
    "duration": 7,
    "start_time": "2024-01-20T08:42:23.523Z"
   },
   {
    "duration": 9,
    "start_time": "2024-01-20T08:42:23.531Z"
   },
   {
    "duration": 6,
    "start_time": "2024-01-20T08:42:23.542Z"
   },
   {
    "duration": 13,
    "start_time": "2024-01-20T08:42:23.549Z"
   },
   {
    "duration": 8,
    "start_time": "2024-01-20T08:42:23.563Z"
   },
   {
    "duration": 8,
    "start_time": "2024-01-20T08:42:23.573Z"
   },
   {
    "duration": 7,
    "start_time": "2024-01-20T08:42:23.582Z"
   },
   {
    "duration": 11,
    "start_time": "2024-01-20T08:42:23.590Z"
   },
   {
    "duration": 9,
    "start_time": "2024-01-20T08:42:23.602Z"
   },
   {
    "duration": 8,
    "start_time": "2024-01-20T08:42:23.612Z"
   },
   {
    "duration": 8,
    "start_time": "2024-01-20T08:42:23.621Z"
   },
   {
    "duration": 13,
    "start_time": "2024-01-20T08:42:23.630Z"
   },
   {
    "duration": 12,
    "start_time": "2024-01-20T08:42:23.645Z"
   },
   {
    "duration": 9,
    "start_time": "2024-01-20T08:42:23.658Z"
   },
   {
    "duration": 17,
    "start_time": "2024-01-20T08:42:23.668Z"
   },
   {
    "duration": 4,
    "start_time": "2024-01-20T10:25:45.303Z"
   },
   {
    "duration": 464,
    "start_time": "2024-01-20T10:25:45.309Z"
   },
   {
    "duration": 149,
    "start_time": "2024-01-20T10:25:45.775Z"
   },
   {
    "duration": 4,
    "start_time": "2024-01-20T10:25:45.925Z"
   },
   {
    "duration": 31,
    "start_time": "2024-01-20T10:25:45.931Z"
   },
   {
    "duration": 23,
    "start_time": "2024-01-20T10:25:45.963Z"
   },
   {
    "duration": 51,
    "start_time": "2024-01-20T10:25:45.988Z"
   },
   {
    "duration": 7,
    "start_time": "2024-01-20T10:25:46.040Z"
   },
   {
    "duration": 18,
    "start_time": "2024-01-20T10:25:46.049Z"
   },
   {
    "duration": 9,
    "start_time": "2024-01-20T10:25:46.068Z"
   },
   {
    "duration": 19,
    "start_time": "2024-01-20T10:25:46.079Z"
   },
   {
    "duration": 6,
    "start_time": "2024-01-20T10:26:11.909Z"
   },
   {
    "duration": 74,
    "start_time": "2024-01-20T10:30:38.264Z"
   },
   {
    "duration": 9,
    "start_time": "2024-01-20T10:33:01.866Z"
   },
   {
    "duration": 152,
    "start_time": "2024-01-20T10:33:17.497Z"
   },
   {
    "duration": 134,
    "start_time": "2024-01-20T10:34:12.533Z"
   },
   {
    "duration": 3,
    "start_time": "2024-01-20T10:34:16.266Z"
   },
   {
    "duration": 7,
    "start_time": "2024-01-20T10:34:18.474Z"
   },
   {
    "duration": 6,
    "start_time": "2024-01-20T10:34:36.221Z"
   },
   {
    "duration": 606,
    "start_time": "2024-01-20T10:34:41.296Z"
   },
   {
    "duration": 319,
    "start_time": "2024-01-20T10:34:50.241Z"
   },
   {
    "duration": 18,
    "start_time": "2024-01-20T10:35:00.756Z"
   },
   {
    "duration": 246,
    "start_time": "2024-01-20T10:35:12.272Z"
   },
   {
    "duration": 9,
    "start_time": "2024-01-20T10:35:43.304Z"
   },
   {
    "duration": 3,
    "start_time": "2024-01-20T10:35:57.065Z"
   },
   {
    "duration": 109,
    "start_time": "2024-01-20T10:36:41.691Z"
   },
   {
    "duration": 22,
    "start_time": "2024-01-20T10:37:03.234Z"
   },
   {
    "duration": 53,
    "start_time": "2024-01-20T10:37:09.439Z"
   },
   {
    "duration": 9,
    "start_time": "2024-01-20T10:37:48.759Z"
   },
   {
    "duration": 8,
    "start_time": "2024-01-20T10:37:56.009Z"
   },
   {
    "duration": 10,
    "start_time": "2024-01-20T10:38:01.165Z"
   },
   {
    "duration": 10,
    "start_time": "2024-01-20T10:38:13.037Z"
   },
   {
    "duration": 4,
    "start_time": "2024-01-20T10:38:26.950Z"
   },
   {
    "duration": 3,
    "start_time": "2024-01-20T10:39:09.564Z"
   },
   {
    "duration": 5,
    "start_time": "2024-01-20T10:48:29.023Z"
   },
   {
    "duration": 170,
    "start_time": "2024-01-20T10:50:09.095Z"
   },
   {
    "duration": 34,
    "start_time": "2024-01-20T11:14:55.881Z"
   },
   {
    "duration": 46,
    "start_time": "2024-01-20T11:16:05.464Z"
   },
   {
    "duration": 35,
    "start_time": "2024-01-20T11:16:27.039Z"
   },
   {
    "duration": 32,
    "start_time": "2024-01-20T11:16:32.077Z"
   },
   {
    "duration": 34,
    "start_time": "2024-01-20T11:16:40.710Z"
   },
   {
    "duration": 35,
    "start_time": "2024-01-20T11:16:49.359Z"
   },
   {
    "duration": 39,
    "start_time": "2024-01-20T11:17:00.091Z"
   },
   {
    "duration": 43,
    "start_time": "2024-01-20T11:17:13.886Z"
   },
   {
    "duration": 92,
    "start_time": "2024-01-20T11:31:43.001Z"
   },
   {
    "duration": 1153,
    "start_time": "2024-01-20T11:31:53.298Z"
   },
   {
    "duration": 5,
    "start_time": "2024-01-20T11:32:05.267Z"
   },
   {
    "duration": 89,
    "start_time": "2024-01-20T11:33:33.009Z"
   },
   {
    "duration": 5,
    "start_time": "2024-01-20T11:34:08.878Z"
   },
   {
    "duration": 5,
    "start_time": "2024-01-20T11:34:26.397Z"
   },
   {
    "duration": 6,
    "start_time": "2024-01-20T11:34:35.019Z"
   },
   {
    "duration": 5,
    "start_time": "2024-01-20T11:35:37.982Z"
   },
   {
    "duration": 5,
    "start_time": "2024-01-20T11:36:23.985Z"
   },
   {
    "duration": 5,
    "start_time": "2024-01-20T11:37:51.840Z"
   },
   {
    "duration": 5,
    "start_time": "2024-01-20T11:40:05.882Z"
   },
   {
    "duration": 5,
    "start_time": "2024-01-20T11:41:42.888Z"
   },
   {
    "duration": 76,
    "start_time": "2024-01-20T11:42:04.417Z"
   },
   {
    "duration": 5,
    "start_time": "2024-01-20T11:43:02.223Z"
   },
   {
    "duration": 5,
    "start_time": "2024-01-20T11:43:59.534Z"
   },
   {
    "duration": 5,
    "start_time": "2024-01-20T11:44:01.097Z"
   },
   {
    "duration": 5,
    "start_time": "2024-01-20T11:44:14.991Z"
   },
   {
    "duration": 5,
    "start_time": "2024-01-20T11:45:14.629Z"
   },
   {
    "duration": 5,
    "start_time": "2024-01-20T11:46:37.520Z"
   },
   {
    "duration": 5,
    "start_time": "2024-01-20T11:48:33.271Z"
   },
   {
    "duration": 5,
    "start_time": "2024-01-20T11:49:53.505Z"
   },
   {
    "duration": 5,
    "start_time": "2024-01-20T11:50:35.609Z"
   },
   {
    "duration": 5,
    "start_time": "2024-01-20T11:51:30.550Z"
   },
   {
    "duration": 5,
    "start_time": "2024-01-20T11:52:16.502Z"
   },
   {
    "duration": 5,
    "start_time": "2024-01-20T11:52:28.625Z"
   },
   {
    "duration": 4,
    "start_time": "2024-01-20T11:53:12.236Z"
   },
   {
    "duration": 68,
    "start_time": "2024-01-20T11:53:25.165Z"
   },
   {
    "duration": 9,
    "start_time": "2024-01-20T11:55:30.730Z"
   },
   {
    "duration": 5,
    "start_time": "2024-01-20T11:56:03.040Z"
   },
   {
    "duration": 5,
    "start_time": "2024-01-20T11:56:49.052Z"
   },
   {
    "duration": 4,
    "start_time": "2024-01-20T11:57:44.789Z"
   },
   {
    "duration": 6,
    "start_time": "2024-01-20T12:00:38.469Z"
   },
   {
    "duration": 118,
    "start_time": "2024-01-20T12:01:29.144Z"
   },
   {
    "duration": 5,
    "start_time": "2024-01-20T12:06:46.467Z"
   },
   {
    "duration": 5,
    "start_time": "2024-01-20T12:06:49.437Z"
   },
   {
    "duration": 5,
    "start_time": "2024-01-20T12:06:51.442Z"
   },
   {
    "duration": 5,
    "start_time": "2024-01-20T12:06:53.210Z"
   },
   {
    "duration": 5,
    "start_time": "2024-01-20T12:06:55.003Z"
   },
   {
    "duration": 4,
    "start_time": "2024-01-20T12:06:58.364Z"
   },
   {
    "duration": 5,
    "start_time": "2024-01-20T12:07:00.074Z"
   },
   {
    "duration": 5,
    "start_time": "2024-01-20T12:07:01.496Z"
   },
   {
    "duration": 5,
    "start_time": "2024-01-20T12:07:02.947Z"
   },
   {
    "duration": 4,
    "start_time": "2024-01-20T12:07:05.837Z"
   },
   {
    "duration": 5,
    "start_time": "2024-01-20T12:07:08.111Z"
   },
   {
    "duration": 5,
    "start_time": "2024-01-20T12:07:09.637Z"
   },
   {
    "duration": 4,
    "start_time": "2024-01-20T12:07:10.982Z"
   },
   {
    "duration": 10,
    "start_time": "2024-01-20T12:07:14.497Z"
   },
   {
    "duration": 5,
    "start_time": "2024-01-20T12:07:16.628Z"
   },
   {
    "duration": 5,
    "start_time": "2024-01-20T12:07:18.590Z"
   },
   {
    "duration": 5,
    "start_time": "2024-01-20T12:07:21.489Z"
   },
   {
    "duration": 4,
    "start_time": "2024-01-20T12:07:23.342Z"
   },
   {
    "duration": 3,
    "start_time": "2024-01-20T12:10:45.072Z"
   },
   {
    "duration": 367,
    "start_time": "2024-01-20T12:10:45.077Z"
   },
   {
    "duration": 144,
    "start_time": "2024-01-20T12:10:45.453Z"
   },
   {
    "duration": 4,
    "start_time": "2024-01-20T12:10:45.599Z"
   },
   {
    "duration": 24,
    "start_time": "2024-01-20T12:10:45.604Z"
   },
   {
    "duration": 31,
    "start_time": "2024-01-20T12:10:45.629Z"
   },
   {
    "duration": 34,
    "start_time": "2024-01-20T12:10:45.661Z"
   },
   {
    "duration": 7,
    "start_time": "2024-01-20T12:10:45.696Z"
   },
   {
    "duration": 16,
    "start_time": "2024-01-20T12:10:45.706Z"
   },
   {
    "duration": 8,
    "start_time": "2024-01-20T12:10:45.723Z"
   },
   {
    "duration": 87,
    "start_time": "2024-01-20T12:10:45.733Z"
   },
   {
    "duration": 151,
    "start_time": "2024-01-20T12:10:45.821Z"
   },
   {
    "duration": 3,
    "start_time": "2024-01-20T12:10:45.973Z"
   },
   {
    "duration": 9,
    "start_time": "2024-01-20T12:10:45.977Z"
   },
   {
    "duration": 6,
    "start_time": "2024-01-20T12:10:45.987Z"
   },
   {
    "duration": 737,
    "start_time": "2024-01-20T12:10:45.994Z"
   },
   {
    "duration": 314,
    "start_time": "2024-01-20T12:10:46.732Z"
   },
   {
    "duration": 17,
    "start_time": "2024-01-20T12:10:47.052Z"
   },
   {
    "duration": 276,
    "start_time": "2024-01-20T12:10:47.070Z"
   },
   {
    "duration": 10,
    "start_time": "2024-01-20T12:10:47.351Z"
   },
   {
    "duration": 4,
    "start_time": "2024-01-20T12:10:47.363Z"
   },
   {
    "duration": 26,
    "start_time": "2024-01-20T12:10:47.368Z"
   },
   {
    "duration": 72,
    "start_time": "2024-01-20T12:10:47.395Z"
   },
   {
    "duration": 9,
    "start_time": "2024-01-20T12:10:47.470Z"
   },
   {
    "duration": 11,
    "start_time": "2024-01-20T12:10:47.480Z"
   },
   {
    "duration": 9,
    "start_time": "2024-01-20T12:10:47.492Z"
   },
   {
    "duration": 11,
    "start_time": "2024-01-20T12:10:47.503Z"
   },
   {
    "duration": 16,
    "start_time": "2024-01-20T12:10:47.516Z"
   },
   {
    "duration": 24,
    "start_time": "2024-01-20T12:10:47.533Z"
   },
   {
    "duration": 30,
    "start_time": "2024-01-20T12:10:47.559Z"
   },
   {
    "duration": 35,
    "start_time": "2024-01-20T12:10:47.590Z"
   },
   {
    "duration": 107,
    "start_time": "2024-01-20T12:10:47.627Z"
   },
   {
    "duration": 5,
    "start_time": "2024-01-20T12:10:47.736Z"
   },
   {
    "duration": 4,
    "start_time": "2024-01-20T12:10:47.751Z"
   },
   {
    "duration": 9,
    "start_time": "2024-01-20T12:10:47.757Z"
   },
   {
    "duration": 6,
    "start_time": "2024-01-20T12:10:47.768Z"
   },
   {
    "duration": 10,
    "start_time": "2024-01-20T12:10:47.775Z"
   },
   {
    "duration": 6,
    "start_time": "2024-01-20T12:10:47.786Z"
   },
   {
    "duration": 15,
    "start_time": "2024-01-20T12:10:47.793Z"
   },
   {
    "duration": 14,
    "start_time": "2024-01-20T12:10:47.810Z"
   },
   {
    "duration": 7,
    "start_time": "2024-01-20T12:10:47.826Z"
   },
   {
    "duration": 24,
    "start_time": "2024-01-20T12:10:47.834Z"
   },
   {
    "duration": 18,
    "start_time": "2024-01-20T12:10:47.859Z"
   },
   {
    "duration": 14,
    "start_time": "2024-01-20T12:10:47.878Z"
   },
   {
    "duration": 5,
    "start_time": "2024-01-20T12:10:47.893Z"
   },
   {
    "duration": 14,
    "start_time": "2024-01-20T12:10:47.899Z"
   },
   {
    "duration": 10,
    "start_time": "2024-01-20T12:10:47.914Z"
   },
   {
    "duration": 5,
    "start_time": "2024-01-20T12:10:47.925Z"
   },
   {
    "duration": 21,
    "start_time": "2024-01-20T12:10:47.931Z"
   },
   {
    "duration": 9,
    "start_time": "2024-01-20T12:10:47.954Z"
   },
   {
    "duration": 1005,
    "start_time": "2024-01-20T14:31:19.217Z"
   },
   {
    "duration": 284,
    "start_time": "2024-01-20T14:31:20.224Z"
   },
   {
    "duration": 160,
    "start_time": "2024-01-20T14:31:20.509Z"
   },
   {
    "duration": 4,
    "start_time": "2024-01-20T14:31:20.671Z"
   },
   {
    "duration": 23,
    "start_time": "2024-01-20T14:31:20.677Z"
   },
   {
    "duration": 27,
    "start_time": "2024-01-20T14:31:20.702Z"
   },
   {
    "duration": 36,
    "start_time": "2024-01-20T14:31:20.731Z"
   },
   {
    "duration": 8,
    "start_time": "2024-01-20T14:31:20.769Z"
   },
   {
    "duration": 17,
    "start_time": "2024-01-20T14:31:20.779Z"
   },
   {
    "duration": 9,
    "start_time": "2024-01-20T14:31:20.799Z"
   },
   {
    "duration": 96,
    "start_time": "2024-01-20T14:31:20.810Z"
   },
   {
    "duration": 160,
    "start_time": "2024-01-20T14:31:20.908Z"
   },
   {
    "duration": 3,
    "start_time": "2024-01-20T14:31:21.070Z"
   },
   {
    "duration": 7,
    "start_time": "2024-01-20T14:31:21.075Z"
   },
   {
    "duration": 7,
    "start_time": "2024-01-20T14:31:21.083Z"
   },
   {
    "duration": 626,
    "start_time": "2024-01-20T14:31:21.091Z"
   },
   {
    "duration": 359,
    "start_time": "2024-01-20T14:31:21.719Z"
   },
   {
    "duration": 19,
    "start_time": "2024-01-20T14:31:22.080Z"
   },
   {
    "duration": 249,
    "start_time": "2024-01-20T14:31:22.100Z"
   },
   {
    "duration": 9,
    "start_time": "2024-01-20T14:31:22.358Z"
   },
   {
    "duration": 3,
    "start_time": "2024-01-20T14:31:22.368Z"
   },
   {
    "duration": 23,
    "start_time": "2024-01-20T14:31:22.372Z"
   },
   {
    "duration": 71,
    "start_time": "2024-01-20T14:31:22.396Z"
   },
   {
    "duration": 8,
    "start_time": "2024-01-20T14:31:22.469Z"
   },
   {
    "duration": 18,
    "start_time": "2024-01-20T14:31:22.478Z"
   },
   {
    "duration": 10,
    "start_time": "2024-01-20T14:31:22.497Z"
   },
   {
    "duration": 19,
    "start_time": "2024-01-20T14:31:22.508Z"
   },
   {
    "duration": 5,
    "start_time": "2024-01-20T14:31:22.530Z"
   },
   {
    "duration": 373,
    "start_time": "2024-01-20T14:31:22.536Z"
   },
   {
    "duration": 57,
    "start_time": "2024-01-20T14:31:22.910Z"
   },
   {
    "duration": 37,
    "start_time": "2024-01-20T14:31:22.968Z"
   },
   {
    "duration": 84,
    "start_time": "2024-01-20T14:31:23.058Z"
   },
   {
    "duration": 17,
    "start_time": "2024-01-20T14:31:23.144Z"
   },
   {
    "duration": 7,
    "start_time": "2024-01-20T14:31:23.163Z"
   },
   {
    "duration": 11,
    "start_time": "2024-01-20T14:31:23.171Z"
   },
   {
    "duration": 15,
    "start_time": "2024-01-20T14:31:23.183Z"
   },
   {
    "duration": 34,
    "start_time": "2024-01-20T14:31:23.199Z"
   },
   {
    "duration": 15,
    "start_time": "2024-01-20T14:31:23.234Z"
   },
   {
    "duration": 30,
    "start_time": "2024-01-20T14:31:23.251Z"
   },
   {
    "duration": 13,
    "start_time": "2024-01-20T14:31:23.283Z"
   },
   {
    "duration": 9,
    "start_time": "2024-01-20T14:31:23.297Z"
   },
   {
    "duration": 23,
    "start_time": "2024-01-20T14:31:23.308Z"
   },
   {
    "duration": 9,
    "start_time": "2024-01-20T14:31:23.332Z"
   },
   {
    "duration": 9,
    "start_time": "2024-01-20T14:31:23.342Z"
   },
   {
    "duration": 40,
    "start_time": "2024-01-20T14:31:23.352Z"
   },
   {
    "duration": 10,
    "start_time": "2024-01-20T14:31:23.393Z"
   },
   {
    "duration": 6,
    "start_time": "2024-01-20T14:31:23.405Z"
   },
   {
    "duration": 4,
    "start_time": "2024-01-20T14:31:23.412Z"
   },
   {
    "duration": 5,
    "start_time": "2024-01-20T14:31:23.417Z"
   },
   {
    "duration": 5,
    "start_time": "2024-01-20T14:31:23.423Z"
   },
   {
    "duration": 4,
    "start_time": "2024-01-20T15:26:37.192Z"
   },
   {
    "duration": 313,
    "start_time": "2024-01-20T15:26:37.198Z"
   },
   {
    "duration": 158,
    "start_time": "2024-01-20T15:26:37.513Z"
   },
   {
    "duration": 4,
    "start_time": "2024-01-20T15:26:37.673Z"
   },
   {
    "duration": 21,
    "start_time": "2024-01-20T15:26:37.679Z"
   },
   {
    "duration": 15,
    "start_time": "2024-01-20T15:26:37.702Z"
   },
   {
    "duration": 46,
    "start_time": "2024-01-20T15:26:37.718Z"
   },
   {
    "duration": 8,
    "start_time": "2024-01-20T15:26:37.766Z"
   },
   {
    "duration": 19,
    "start_time": "2024-01-20T15:26:37.776Z"
   },
   {
    "duration": 8,
    "start_time": "2024-01-20T15:26:37.797Z"
   },
   {
    "duration": 90,
    "start_time": "2024-01-20T15:26:37.807Z"
   },
   {
    "duration": 140,
    "start_time": "2024-01-20T15:26:37.899Z"
   },
   {
    "duration": 3,
    "start_time": "2024-01-20T15:26:38.040Z"
   },
   {
    "duration": 11,
    "start_time": "2024-01-20T15:26:38.052Z"
   },
   {
    "duration": 7,
    "start_time": "2024-01-20T15:26:38.065Z"
   },
   {
    "duration": 611,
    "start_time": "2024-01-20T15:26:38.073Z"
   },
   {
    "duration": 328,
    "start_time": "2024-01-20T15:26:38.686Z"
   },
   {
    "duration": 18,
    "start_time": "2024-01-20T15:26:39.015Z"
   },
   {
    "duration": 259,
    "start_time": "2024-01-20T15:26:39.035Z"
   },
   {
    "duration": 9,
    "start_time": "2024-01-20T15:26:39.296Z"
   },
   {
    "duration": 7,
    "start_time": "2024-01-20T15:26:39.306Z"
   },
   {
    "duration": 38,
    "start_time": "2024-01-20T15:26:39.314Z"
   },
   {
    "duration": 54,
    "start_time": "2024-01-20T15:26:39.354Z"
   },
   {
    "duration": 9,
    "start_time": "2024-01-20T15:26:39.411Z"
   },
   {
    "duration": 30,
    "start_time": "2024-01-20T15:26:39.421Z"
   },
   {
    "duration": 9,
    "start_time": "2024-01-20T15:26:39.453Z"
   },
   {
    "duration": 28,
    "start_time": "2024-01-20T15:26:39.464Z"
   },
   {
    "duration": 5,
    "start_time": "2024-01-20T15:26:39.494Z"
   },
   {
    "duration": 11,
    "start_time": "2024-01-20T15:27:09.498Z"
   },
   {
    "duration": 9,
    "start_time": "2024-01-20T15:27:24.720Z"
   },
   {
    "duration": 10,
    "start_time": "2024-01-20T15:27:44.323Z"
   },
   {
    "duration": 10,
    "start_time": "2024-01-20T15:27:48.282Z"
   },
   {
    "duration": 10,
    "start_time": "2024-01-20T15:29:47.828Z"
   },
   {
    "duration": 3,
    "start_time": "2024-01-20T15:30:27.865Z"
   },
   {
    "duration": 312,
    "start_time": "2024-01-20T15:30:27.870Z"
   },
   {
    "duration": 148,
    "start_time": "2024-01-20T15:30:28.184Z"
   },
   {
    "duration": 3,
    "start_time": "2024-01-20T15:30:28.334Z"
   },
   {
    "duration": 29,
    "start_time": "2024-01-20T15:30:28.339Z"
   },
   {
    "duration": 15,
    "start_time": "2024-01-20T15:30:28.369Z"
   },
   {
    "duration": 22,
    "start_time": "2024-01-20T15:30:28.386Z"
   },
   {
    "duration": 7,
    "start_time": "2024-01-20T15:30:28.410Z"
   },
   {
    "duration": 40,
    "start_time": "2024-01-20T15:30:28.418Z"
   },
   {
    "duration": 8,
    "start_time": "2024-01-20T15:30:28.459Z"
   },
   {
    "duration": 68,
    "start_time": "2024-01-20T15:30:28.469Z"
   },
   {
    "duration": 151,
    "start_time": "2024-01-20T15:30:28.538Z"
   },
   {
    "duration": 3,
    "start_time": "2024-01-20T15:30:28.690Z"
   },
   {
    "duration": 8,
    "start_time": "2024-01-20T15:30:28.695Z"
   },
   {
    "duration": 6,
    "start_time": "2024-01-20T15:30:28.704Z"
   },
   {
    "duration": 672,
    "start_time": "2024-01-20T15:30:28.711Z"
   },
   {
    "duration": 308,
    "start_time": "2024-01-20T15:30:29.385Z"
   },
   {
    "duration": 17,
    "start_time": "2024-01-20T15:30:29.694Z"
   },
   {
    "duration": 258,
    "start_time": "2024-01-20T15:30:29.712Z"
   },
   {
    "duration": 9,
    "start_time": "2024-01-20T15:30:29.971Z"
   },
   {
    "duration": 3,
    "start_time": "2024-01-20T15:30:29.982Z"
   },
   {
    "duration": 26,
    "start_time": "2024-01-20T15:30:29.986Z"
   },
   {
    "duration": 71,
    "start_time": "2024-01-20T15:30:30.014Z"
   },
   {
    "duration": 17,
    "start_time": "2024-01-20T15:30:30.087Z"
   },
   {
    "duration": 30,
    "start_time": "2024-01-20T15:30:30.105Z"
   },
   {
    "duration": 48,
    "start_time": "2024-01-20T15:30:30.137Z"
   },
   {
    "duration": 62,
    "start_time": "2024-01-20T15:30:30.187Z"
   },
   {
    "duration": 73,
    "start_time": "2024-01-20T15:30:30.251Z"
   },
   {
    "duration": 56,
    "start_time": "2024-01-20T15:30:30.328Z"
   },
   {
    "duration": 80,
    "start_time": "2024-01-20T15:30:30.386Z"
   },
   {
    "duration": 93,
    "start_time": "2024-01-20T15:30:30.468Z"
   },
   {
    "duration": 116,
    "start_time": "2024-01-20T15:30:30.563Z"
   },
   {
    "duration": 7,
    "start_time": "2024-01-20T15:30:30.681Z"
   },
   {
    "duration": 42,
    "start_time": "2024-01-20T15:30:30.690Z"
   },
   {
    "duration": 51,
    "start_time": "2024-01-20T15:30:30.734Z"
   },
   {
    "duration": 50,
    "start_time": "2024-01-20T15:30:30.786Z"
   },
   {
    "duration": 60,
    "start_time": "2024-01-20T15:30:30.837Z"
   },
   {
    "duration": 38,
    "start_time": "2024-01-20T15:30:30.898Z"
   },
   {
    "duration": 26,
    "start_time": "2024-01-20T15:30:30.938Z"
   },
   {
    "duration": 31,
    "start_time": "2024-01-20T15:30:30.965Z"
   },
   {
    "duration": 33,
    "start_time": "2024-01-20T15:30:30.998Z"
   },
   {
    "duration": 52,
    "start_time": "2024-01-20T15:30:31.033Z"
   },
   {
    "duration": 22,
    "start_time": "2024-01-20T15:30:31.086Z"
   },
   {
    "duration": 25,
    "start_time": "2024-01-20T15:30:31.109Z"
   },
   {
    "duration": 20,
    "start_time": "2024-01-20T15:30:31.135Z"
   },
   {
    "duration": 50,
    "start_time": "2024-01-20T15:30:31.156Z"
   },
   {
    "duration": 93,
    "start_time": "2024-01-20T15:30:31.208Z"
   },
   {
    "duration": 52,
    "start_time": "2024-01-20T15:30:31.302Z"
   },
   {
    "duration": 39,
    "start_time": "2024-01-20T15:30:31.356Z"
   },
   {
    "duration": 39,
    "start_time": "2024-01-20T15:30:31.396Z"
   },
   {
    "duration": 6,
    "start_time": "2024-01-20T15:36:40.564Z"
   },
   {
    "duration": 27,
    "start_time": "2024-01-20T15:37:58.583Z"
   },
   {
    "duration": 10,
    "start_time": "2024-01-20T15:38:11.357Z"
   },
   {
    "duration": 21,
    "start_time": "2024-01-20T15:38:19.260Z"
   },
   {
    "duration": 19,
    "start_time": "2024-01-20T15:38:45.583Z"
   },
   {
    "duration": 39,
    "start_time": "2024-01-20T15:41:35.824Z"
   },
   {
    "duration": 35,
    "start_time": "2024-01-20T15:41:59.432Z"
   },
   {
    "duration": 40,
    "start_time": "2024-01-20T15:42:13.598Z"
   },
   {
    "duration": 3,
    "start_time": "2024-01-20T15:42:22.594Z"
   },
   {
    "duration": 273,
    "start_time": "2024-01-20T15:42:22.602Z"
   },
   {
    "duration": 146,
    "start_time": "2024-01-20T15:42:22.877Z"
   },
   {
    "duration": 4,
    "start_time": "2024-01-20T15:42:23.024Z"
   },
   {
    "duration": 37,
    "start_time": "2024-01-20T15:42:23.030Z"
   },
   {
    "duration": 16,
    "start_time": "2024-01-20T15:42:23.069Z"
   },
   {
    "duration": 32,
    "start_time": "2024-01-20T15:42:23.086Z"
   },
   {
    "duration": 8,
    "start_time": "2024-01-20T15:42:23.120Z"
   },
   {
    "duration": 17,
    "start_time": "2024-01-20T15:42:23.152Z"
   },
   {
    "duration": 25,
    "start_time": "2024-01-20T15:42:23.170Z"
   },
   {
    "duration": 78,
    "start_time": "2024-01-20T15:42:23.197Z"
   },
   {
    "duration": 144,
    "start_time": "2024-01-20T15:42:23.276Z"
   },
   {
    "duration": 3,
    "start_time": "2024-01-20T15:42:23.422Z"
   },
   {
    "duration": 23,
    "start_time": "2024-01-20T15:42:23.426Z"
   },
   {
    "duration": 10,
    "start_time": "2024-01-20T15:42:23.451Z"
   },
   {
    "duration": 620,
    "start_time": "2024-01-20T15:42:23.463Z"
   },
   {
    "duration": 324,
    "start_time": "2024-01-20T15:42:24.085Z"
   },
   {
    "duration": 5,
    "start_time": "2024-01-20T15:42:24.411Z"
   },
   {
    "duration": 31,
    "start_time": "2024-01-20T15:42:24.418Z"
   },
   {
    "duration": 241,
    "start_time": "2024-01-20T15:42:24.451Z"
   },
   {
    "duration": 8,
    "start_time": "2024-01-20T15:42:24.694Z"
   },
   {
    "duration": 6,
    "start_time": "2024-01-20T15:42:24.703Z"
   },
   {
    "duration": 24,
    "start_time": "2024-01-20T15:42:24.710Z"
   },
   {
    "duration": 39,
    "start_time": "2024-01-20T15:42:24.751Z"
   },
   {
    "duration": 38,
    "start_time": "2024-01-20T15:43:27.407Z"
   },
   {
    "duration": 39,
    "start_time": "2024-01-20T15:44:07.090Z"
   },
   {
    "duration": 52,
    "start_time": "2024-01-20T15:44:13.991Z"
   },
   {
    "duration": 42,
    "start_time": "2024-01-20T15:44:45.968Z"
   },
   {
    "duration": 43,
    "start_time": "2024-01-20T15:48:14.638Z"
   },
   {
    "duration": 41,
    "start_time": "2024-01-20T15:49:18.991Z"
   },
   {
    "duration": 43,
    "start_time": "2024-01-20T15:50:04.757Z"
   },
   {
    "duration": 45,
    "start_time": "2024-01-20T15:50:24.684Z"
   },
   {
    "duration": 46,
    "start_time": "2024-01-20T15:50:59.447Z"
   },
   {
    "duration": 26,
    "start_time": "2024-01-20T15:54:49.280Z"
   },
   {
    "duration": 19,
    "start_time": "2024-01-20T15:56:20.184Z"
   },
   {
    "duration": 72,
    "start_time": "2024-01-20T15:56:20.898Z"
   },
   {
    "duration": 4,
    "start_time": "2024-01-20T15:56:32.347Z"
   },
   {
    "duration": 322,
    "start_time": "2024-01-20T15:56:32.353Z"
   },
   {
    "duration": 149,
    "start_time": "2024-01-20T15:56:32.676Z"
   },
   {
    "duration": 3,
    "start_time": "2024-01-20T15:56:32.827Z"
   },
   {
    "duration": 40,
    "start_time": "2024-01-20T15:56:32.832Z"
   },
   {
    "duration": 29,
    "start_time": "2024-01-20T15:56:32.874Z"
   },
   {
    "duration": 59,
    "start_time": "2024-01-20T15:56:32.905Z"
   },
   {
    "duration": 11,
    "start_time": "2024-01-20T15:56:32.966Z"
   },
   {
    "duration": 35,
    "start_time": "2024-01-20T15:56:32.978Z"
   },
   {
    "duration": 9,
    "start_time": "2024-01-20T15:56:33.015Z"
   },
   {
    "duration": 75,
    "start_time": "2024-01-20T15:56:33.025Z"
   },
   {
    "duration": 163,
    "start_time": "2024-01-20T15:56:33.101Z"
   },
   {
    "duration": 3,
    "start_time": "2024-01-20T15:56:33.266Z"
   },
   {
    "duration": 19,
    "start_time": "2024-01-20T15:56:33.272Z"
   },
   {
    "duration": 7,
    "start_time": "2024-01-20T15:56:33.292Z"
   },
   {
    "duration": 724,
    "start_time": "2024-01-20T15:56:33.300Z"
   },
   {
    "duration": 323,
    "start_time": "2024-01-20T15:56:34.026Z"
   },
   {
    "duration": 6,
    "start_time": "2024-01-20T15:56:34.352Z"
   },
   {
    "duration": 32,
    "start_time": "2024-01-20T15:56:34.359Z"
   },
   {
    "duration": 255,
    "start_time": "2024-01-20T15:56:34.392Z"
   },
   {
    "duration": 9,
    "start_time": "2024-01-20T15:56:34.651Z"
   },
   {
    "duration": 3,
    "start_time": "2024-01-20T15:56:34.661Z"
   },
   {
    "duration": 55,
    "start_time": "2024-01-20T15:56:34.666Z"
   },
   {
    "duration": 15,
    "start_time": "2024-01-20T15:56:34.722Z"
   },
   {
    "duration": 30,
    "start_time": "2024-01-20T15:56:34.738Z"
   },
   {
    "duration": 51,
    "start_time": "2024-01-20T15:56:34.769Z"
   },
   {
    "duration": 8,
    "start_time": "2024-01-20T15:56:34.822Z"
   },
   {
    "duration": 26,
    "start_time": "2024-01-20T15:56:34.831Z"
   },
   {
    "duration": 8,
    "start_time": "2024-01-20T15:56:34.859Z"
   },
   {
    "duration": 11,
    "start_time": "2024-01-20T15:56:34.869Z"
   },
   {
    "duration": 6,
    "start_time": "2024-01-20T15:56:34.881Z"
   },
   {
    "duration": 11,
    "start_time": "2024-01-20T15:56:34.888Z"
   },
   {
    "duration": 32,
    "start_time": "2024-01-20T15:56:34.901Z"
   },
   {
    "duration": 35,
    "start_time": "2024-01-20T15:56:34.952Z"
   },
   {
    "duration": 94,
    "start_time": "2024-01-20T15:56:34.989Z"
   },
   {
    "duration": 8,
    "start_time": "2024-01-20T15:56:35.085Z"
   },
   {
    "duration": 11,
    "start_time": "2024-01-20T15:56:35.094Z"
   },
   {
    "duration": 14,
    "start_time": "2024-01-20T15:56:35.107Z"
   },
   {
    "duration": 6,
    "start_time": "2024-01-20T15:56:35.122Z"
   },
   {
    "duration": 22,
    "start_time": "2024-01-20T15:56:35.130Z"
   },
   {
    "duration": 25,
    "start_time": "2024-01-20T15:56:35.157Z"
   },
   {
    "duration": 26,
    "start_time": "2024-01-20T15:56:35.184Z"
   },
   {
    "duration": 23,
    "start_time": "2024-01-20T15:56:35.212Z"
   },
   {
    "duration": 19,
    "start_time": "2024-01-20T15:56:35.237Z"
   },
   {
    "duration": 16,
    "start_time": "2024-01-20T15:56:35.257Z"
   },
   {
    "duration": 10,
    "start_time": "2024-01-20T15:56:35.274Z"
   },
   {
    "duration": 12,
    "start_time": "2024-01-20T15:56:35.285Z"
   },
   {
    "duration": 18,
    "start_time": "2024-01-20T15:56:35.299Z"
   },
   {
    "duration": 11,
    "start_time": "2024-01-20T15:56:35.319Z"
   },
   {
    "duration": 12,
    "start_time": "2024-01-20T15:56:35.332Z"
   },
   {
    "duration": 5,
    "start_time": "2024-01-20T15:56:35.346Z"
   },
   {
    "duration": 9,
    "start_time": "2024-01-20T15:56:35.352Z"
   },
   {
    "duration": 6,
    "start_time": "2024-01-20T15:56:35.363Z"
   },
   {
    "duration": 70,
    "start_time": "2024-01-20T15:57:18.964Z"
   },
   {
    "duration": 3,
    "start_time": "2024-01-20T15:57:29.034Z"
   },
   {
    "duration": 307,
    "start_time": "2024-01-20T15:57:29.039Z"
   },
   {
    "duration": 156,
    "start_time": "2024-01-20T15:57:29.347Z"
   },
   {
    "duration": 3,
    "start_time": "2024-01-20T15:57:29.505Z"
   },
   {
    "duration": 28,
    "start_time": "2024-01-20T15:57:29.509Z"
   },
   {
    "duration": 17,
    "start_time": "2024-01-20T15:57:29.539Z"
   },
   {
    "duration": 26,
    "start_time": "2024-01-20T15:57:29.557Z"
   },
   {
    "duration": 7,
    "start_time": "2024-01-20T15:57:29.584Z"
   },
   {
    "duration": 17,
    "start_time": "2024-01-20T15:57:29.593Z"
   },
   {
    "duration": 15,
    "start_time": "2024-01-20T15:57:29.612Z"
   },
   {
    "duration": 80,
    "start_time": "2024-01-20T15:57:29.629Z"
   },
   {
    "duration": 147,
    "start_time": "2024-01-20T15:57:29.710Z"
   },
   {
    "duration": 3,
    "start_time": "2024-01-20T15:57:29.859Z"
   },
   {
    "duration": 10,
    "start_time": "2024-01-20T15:57:29.863Z"
   },
   {
    "duration": 6,
    "start_time": "2024-01-20T15:57:29.874Z"
   },
   {
    "duration": 645,
    "start_time": "2024-01-20T15:57:29.882Z"
   },
   {
    "duration": 329,
    "start_time": "2024-01-20T15:57:30.528Z"
   },
   {
    "duration": 5,
    "start_time": "2024-01-20T15:57:30.859Z"
   },
   {
    "duration": 81,
    "start_time": "2024-01-20T15:57:30.866Z"
   },
   {
    "duration": 278,
    "start_time": "2024-01-20T15:57:30.948Z"
   },
   {
    "duration": 9,
    "start_time": "2024-01-20T15:57:31.228Z"
   },
   {
    "duration": 39,
    "start_time": "2024-01-20T15:57:31.238Z"
   },
   {
    "duration": 79,
    "start_time": "2024-01-20T15:57:31.278Z"
   },
   {
    "duration": 16,
    "start_time": "2024-01-20T15:57:31.360Z"
   },
   {
    "duration": 36,
    "start_time": "2024-01-20T15:57:31.378Z"
   },
   {
    "duration": 64,
    "start_time": "2024-01-20T15:57:31.416Z"
   },
   {
    "duration": 9,
    "start_time": "2024-01-20T15:57:31.482Z"
   },
   {
    "duration": 40,
    "start_time": "2024-01-20T15:57:31.493Z"
   },
   {
    "duration": 57,
    "start_time": "2024-01-20T15:57:31.534Z"
   },
   {
    "duration": 24,
    "start_time": "2024-01-20T15:57:31.593Z"
   },
   {
    "duration": 38,
    "start_time": "2024-01-20T15:57:31.618Z"
   },
   {
    "duration": 15,
    "start_time": "2024-01-20T15:57:31.658Z"
   },
   {
    "duration": 35,
    "start_time": "2024-01-20T15:57:31.675Z"
   },
   {
    "duration": 40,
    "start_time": "2024-01-20T15:57:31.712Z"
   },
   {
    "duration": 81,
    "start_time": "2024-01-20T15:57:31.753Z"
   },
   {
    "duration": 17,
    "start_time": "2024-01-20T15:57:31.835Z"
   },
   {
    "duration": 39,
    "start_time": "2024-01-20T15:57:31.854Z"
   },
   {
    "duration": 36,
    "start_time": "2024-01-20T15:57:31.895Z"
   },
   {
    "duration": 86,
    "start_time": "2024-01-20T15:57:31.932Z"
   },
   {
    "duration": 107,
    "start_time": "2024-01-20T15:57:32.019Z"
   },
   {
    "duration": 32,
    "start_time": "2024-01-20T15:57:32.128Z"
   },
   {
    "duration": 33,
    "start_time": "2024-01-20T15:57:32.162Z"
   },
   {
    "duration": 44,
    "start_time": "2024-01-20T15:57:32.197Z"
   },
   {
    "duration": 108,
    "start_time": "2024-01-20T15:57:32.243Z"
   },
   {
    "duration": 87,
    "start_time": "2024-01-20T15:57:32.353Z"
   },
   {
    "duration": 50,
    "start_time": "2024-01-20T15:57:32.442Z"
   },
   {
    "duration": 37,
    "start_time": "2024-01-20T15:57:32.493Z"
   },
   {
    "duration": 36,
    "start_time": "2024-01-20T15:57:32.531Z"
   },
   {
    "duration": 41,
    "start_time": "2024-01-20T15:57:32.569Z"
   },
   {
    "duration": 58,
    "start_time": "2024-01-20T15:57:32.612Z"
   },
   {
    "duration": 29,
    "start_time": "2024-01-20T15:57:32.671Z"
   },
   {
    "duration": 31,
    "start_time": "2024-01-20T15:57:32.702Z"
   },
   {
    "duration": 40,
    "start_time": "2024-01-20T15:57:32.735Z"
   },
   {
    "duration": 1351,
    "start_time": "2024-01-20T16:36:46.551Z"
   },
   {
    "duration": 678,
    "start_time": "2024-01-20T16:36:47.904Z"
   },
   {
    "duration": 180,
    "start_time": "2024-01-20T16:36:48.583Z"
   },
   {
    "duration": 5,
    "start_time": "2024-01-20T16:36:48.765Z"
   },
   {
    "duration": 43,
    "start_time": "2024-01-20T16:36:48.772Z"
   },
   {
    "duration": 29,
    "start_time": "2024-01-20T16:36:48.817Z"
   },
   {
    "duration": 25,
    "start_time": "2024-01-20T16:36:48.847Z"
   },
   {
    "duration": 8,
    "start_time": "2024-01-20T16:36:48.874Z"
   },
   {
    "duration": 38,
    "start_time": "2024-01-20T16:36:48.883Z"
   },
   {
    "duration": 22,
    "start_time": "2024-01-20T16:36:48.924Z"
   },
   {
    "duration": 92,
    "start_time": "2024-01-20T16:36:48.947Z"
   },
   {
    "duration": 173,
    "start_time": "2024-01-20T16:36:49.041Z"
   },
   {
    "duration": 11,
    "start_time": "2024-01-20T16:36:49.215Z"
   },
   {
    "duration": 11,
    "start_time": "2024-01-20T16:36:49.229Z"
   },
   {
    "duration": 7,
    "start_time": "2024-01-20T16:36:49.241Z"
   },
   {
    "duration": 713,
    "start_time": "2024-01-20T16:36:49.249Z"
   },
   {
    "duration": 383,
    "start_time": "2024-01-20T16:36:49.963Z"
   },
   {
    "duration": 7,
    "start_time": "2024-01-20T16:36:50.347Z"
   },
   {
    "duration": 24,
    "start_time": "2024-01-20T16:36:50.356Z"
   },
   {
    "duration": 320,
    "start_time": "2024-01-20T16:36:50.381Z"
   },
   {
    "duration": 18,
    "start_time": "2024-01-20T16:36:50.702Z"
   },
   {
    "duration": 4,
    "start_time": "2024-01-20T16:36:50.722Z"
   },
   {
    "duration": 60,
    "start_time": "2024-01-20T16:36:50.727Z"
   },
   {
    "duration": 33,
    "start_time": "2024-01-20T16:36:50.788Z"
   },
   {
    "duration": 29,
    "start_time": "2024-01-20T16:36:50.823Z"
   },
   {
    "duration": 81,
    "start_time": "2024-01-20T16:36:50.854Z"
   },
   {
    "duration": 9,
    "start_time": "2024-01-20T16:36:50.937Z"
   },
   {
    "duration": 34,
    "start_time": "2024-01-20T16:36:50.949Z"
   },
   {
    "duration": 33,
    "start_time": "2024-01-20T16:36:50.984Z"
   },
   {
    "duration": 21,
    "start_time": "2024-01-20T16:36:51.019Z"
   },
   {
    "duration": 9,
    "start_time": "2024-01-20T16:36:51.041Z"
   },
   {
    "duration": 363,
    "start_time": "2024-01-20T16:36:51.051Z"
   },
   {
    "duration": 42,
    "start_time": "2024-01-20T16:36:51.416Z"
   },
   {
    "duration": 92,
    "start_time": "2024-01-20T16:36:51.460Z"
   },
   {
    "duration": 140,
    "start_time": "2024-01-20T16:36:51.554Z"
   },
   {
    "duration": 6,
    "start_time": "2024-01-20T16:36:51.696Z"
   },
   {
    "duration": 23,
    "start_time": "2024-01-20T16:36:51.703Z"
   },
   {
    "duration": 10,
    "start_time": "2024-01-20T16:36:51.728Z"
   },
   {
    "duration": 23,
    "start_time": "2024-01-20T16:36:51.740Z"
   },
   {
    "duration": 35,
    "start_time": "2024-01-20T16:36:51.764Z"
   },
   {
    "duration": 7,
    "start_time": "2024-01-20T16:36:51.801Z"
   },
   {
    "duration": 10,
    "start_time": "2024-01-20T16:36:51.810Z"
   },
   {
    "duration": 26,
    "start_time": "2024-01-20T16:36:51.822Z"
   },
   {
    "duration": 30,
    "start_time": "2024-01-20T16:36:51.850Z"
   },
   {
    "duration": 16,
    "start_time": "2024-01-20T16:36:51.882Z"
   },
   {
    "duration": 6,
    "start_time": "2024-01-20T16:36:51.900Z"
   },
   {
    "duration": 6,
    "start_time": "2024-01-20T16:36:51.907Z"
   },
   {
    "duration": 20,
    "start_time": "2024-01-20T16:36:51.915Z"
   },
   {
    "duration": 31,
    "start_time": "2024-01-20T16:36:51.937Z"
   },
   {
    "duration": 28,
    "start_time": "2024-01-20T16:36:51.969Z"
   },
   {
    "duration": 6,
    "start_time": "2024-01-20T16:36:51.999Z"
   },
   {
    "duration": 15,
    "start_time": "2024-01-20T16:36:52.007Z"
   },
   {
    "duration": 16,
    "start_time": "2024-01-20T16:36:52.024Z"
   }
  ],
  "kernelspec": {
   "display_name": "Python 3",
   "language": "python",
   "name": "python3"
  },
  "language_info": {
   "codemirror_mode": {
    "name": "ipython",
    "version": 3
   },
   "file_extension": ".py",
   "mimetype": "text/x-python",
   "name": "python",
   "nbconvert_exporter": "python",
   "pygments_lexer": "ipython3",
   "version": "3.7.4"
  },
  "toc": {
   "base_numbering": 1,
   "nav_menu": {},
   "number_sections": true,
   "sideBar": true,
   "skip_h1_title": true,
   "title_cell": "Table of Contents",
   "title_sidebar": "Contents",
   "toc_cell": false,
   "toc_position": {},
   "toc_section_display": true,
   "toc_window_display": false
  }
 },
 "nbformat": 4,
 "nbformat_minor": 2
}
